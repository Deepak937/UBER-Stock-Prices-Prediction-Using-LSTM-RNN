{
 "cells": [
  {
   "cell_type": "markdown",
   "id": "f943e9e3",
   "metadata": {
    "papermill": {
     "duration": 0.015758,
     "end_time": "2023-08-09T14:17:24.596169",
     "exception": false,
     "start_time": "2023-08-09T14:17:24.580411",
     "status": "completed"
    },
    "tags": []
   },
   "source": [
    "**Import Required Libraries**"
   ]
  },
  {
   "cell_type": "code",
   "execution_count": 1,
   "id": "3e453a96",
   "metadata": {
    "_cell_guid": "b1076dfc-b9ad-4769-8c92-a6c4dae69d19",
    "_uuid": "8f2839f25d086af736a60e9eeb907d3b93b6e0e5",
    "execution": {
     "iopub.execute_input": "2023-08-09T14:17:24.634547Z",
     "iopub.status.busy": "2023-08-09T14:17:24.634104Z",
     "iopub.status.idle": "2023-08-09T14:17:36.237701Z",
     "shell.execute_reply": "2023-08-09T14:17:36.236112Z"
    },
    "papermill": {
     "duration": 11.627813,
     "end_time": "2023-08-09T14:17:36.241414",
     "exception": false,
     "start_time": "2023-08-09T14:17:24.613601",
     "status": "completed"
    },
    "tags": []
   },
   "outputs": [
    {
     "name": "stderr",
     "output_type": "stream",
     "text": [
      "/opt/conda/lib/python3.10/site-packages/scipy/__init__.py:146: UserWarning: A NumPy version >=1.16.5 and <1.23.0 is required for this version of SciPy (detected version 1.23.5\n",
      "  warnings.warn(f\"A NumPy version >={np_minversion} and <{np_maxversion}\"\n",
      "/opt/conda/lib/python3.10/site-packages/tensorflow_io/python/ops/__init__.py:98: UserWarning: unable to load libtensorflow_io_plugins.so: unable to open file: libtensorflow_io_plugins.so, from paths: ['/opt/conda/lib/python3.10/site-packages/tensorflow_io/python/ops/libtensorflow_io_plugins.so']\n",
      "caused by: ['/opt/conda/lib/python3.10/site-packages/tensorflow_io/python/ops/libtensorflow_io_plugins.so: undefined symbol: _ZN3tsl6StatusC1EN10tensorflow5error4CodeESt17basic_string_viewIcSt11char_traitsIcEENS_14SourceLocationE']\n",
      "  warnings.warn(f\"unable to load libtensorflow_io_plugins.so: {e}\")\n",
      "/opt/conda/lib/python3.10/site-packages/tensorflow_io/python/ops/__init__.py:104: UserWarning: file system plugins are not loaded: unable to open file: libtensorflow_io.so, from paths: ['/opt/conda/lib/python3.10/site-packages/tensorflow_io/python/ops/libtensorflow_io.so']\n",
      "caused by: ['/opt/conda/lib/python3.10/site-packages/tensorflow_io/python/ops/libtensorflow_io.so: undefined symbol: _ZTVN10tensorflow13GcsFileSystemE']\n",
      "  warnings.warn(f\"file system plugins are not loaded: {e}\")\n"
     ]
    },
    {
     "name": "stdout",
     "output_type": "stream",
     "text": [
      "/kaggle/input/uber-stock-data/UBER.csv\n"
     ]
    }
   ],
   "source": [
    "import numpy as np\n",
    "import pandas as pd\n",
    "import matplotlib.pyplot as plt\n",
    "from sklearn.preprocessing import MinMaxScaler\n",
    "from sklearn.metrics import mean_squared_error\n",
    "from tensorflow.keras.models import Sequential\n",
    "from tensorflow.keras.layers import Dense, LSTM, SimpleRNN\n",
    "from tensorflow.keras.optimizers import Adam\n",
    "\n",
    "import os\n",
    "for dirname, _, filenames in os.walk('/kaggle/input'):\n",
    "    for filename in filenames:\n",
    "        print(os.path.join(dirname, filename))"
   ]
  },
  {
   "cell_type": "markdown",
   "id": "05b46e7d",
   "metadata": {
    "papermill": {
     "duration": 0.015847,
     "end_time": "2023-08-09T14:17:36.274111",
     "exception": false,
     "start_time": "2023-08-09T14:17:36.258264",
     "status": "completed"
    },
    "tags": []
   },
   "source": [
    "**Load dataset**"
   ]
  },
  {
   "cell_type": "code",
   "execution_count": 2,
   "id": "3b7c21cc",
   "metadata": {
    "execution": {
     "iopub.execute_input": "2023-08-09T14:17:36.310814Z",
     "iopub.status.busy": "2023-08-09T14:17:36.309287Z",
     "iopub.status.idle": "2023-08-09T14:17:36.336285Z",
     "shell.execute_reply": "2023-08-09T14:17:36.335066Z"
    },
    "papermill": {
     "duration": 0.04844,
     "end_time": "2023-08-09T14:17:36.339346",
     "exception": false,
     "start_time": "2023-08-09T14:17:36.290906",
     "status": "completed"
    },
    "tags": []
   },
   "outputs": [],
   "source": [
    "data = pd.read_csv(\"/kaggle/input/uber-stock-data/UBER.csv\")\n"
   ]
  },
  {
   "cell_type": "markdown",
   "id": "9a0877ef",
   "metadata": {
    "papermill": {
     "duration": 0.015877,
     "end_time": "2023-08-09T14:17:36.372144",
     "exception": false,
     "start_time": "2023-08-09T14:17:36.356267",
     "status": "completed"
    },
    "tags": []
   },
   "source": [
    "**Exploratory Data Analysis**"
   ]
  },
  {
   "cell_type": "code",
   "execution_count": 3,
   "id": "a80fbc50",
   "metadata": {
    "execution": {
     "iopub.execute_input": "2023-08-09T14:17:36.407134Z",
     "iopub.status.busy": "2023-08-09T14:17:36.406601Z",
     "iopub.status.idle": "2023-08-09T14:17:36.435979Z",
     "shell.execute_reply": "2023-08-09T14:17:36.434636Z"
    },
    "papermill": {
     "duration": 0.05053,
     "end_time": "2023-08-09T14:17:36.438849",
     "exception": false,
     "start_time": "2023-08-09T14:17:36.388319",
     "status": "completed"
    },
    "tags": []
   },
   "outputs": [
    {
     "data": {
      "text/html": [
       "<div>\n",
       "<style scoped>\n",
       "    .dataframe tbody tr th:only-of-type {\n",
       "        vertical-align: middle;\n",
       "    }\n",
       "\n",
       "    .dataframe tbody tr th {\n",
       "        vertical-align: top;\n",
       "    }\n",
       "\n",
       "    .dataframe thead th {\n",
       "        text-align: right;\n",
       "    }\n",
       "</style>\n",
       "<table border=\"1\" class=\"dataframe\">\n",
       "  <thead>\n",
       "    <tr style=\"text-align: right;\">\n",
       "      <th></th>\n",
       "      <th>Date</th>\n",
       "      <th>Open</th>\n",
       "      <th>High</th>\n",
       "      <th>Low</th>\n",
       "      <th>Close</th>\n",
       "      <th>Adj Close</th>\n",
       "      <th>Volume</th>\n",
       "    </tr>\n",
       "  </thead>\n",
       "  <tbody>\n",
       "    <tr>\n",
       "      <th>0</th>\n",
       "      <td>2019-05-10</td>\n",
       "      <td>42.000000</td>\n",
       "      <td>45.000000</td>\n",
       "      <td>41.060001</td>\n",
       "      <td>41.570000</td>\n",
       "      <td>41.570000</td>\n",
       "      <td>186322500</td>\n",
       "    </tr>\n",
       "    <tr>\n",
       "      <th>1</th>\n",
       "      <td>2019-05-13</td>\n",
       "      <td>38.790001</td>\n",
       "      <td>39.240002</td>\n",
       "      <td>36.080002</td>\n",
       "      <td>37.099998</td>\n",
       "      <td>37.099998</td>\n",
       "      <td>79442400</td>\n",
       "    </tr>\n",
       "    <tr>\n",
       "      <th>2</th>\n",
       "      <td>2019-05-14</td>\n",
       "      <td>38.310001</td>\n",
       "      <td>39.959999</td>\n",
       "      <td>36.849998</td>\n",
       "      <td>39.959999</td>\n",
       "      <td>39.959999</td>\n",
       "      <td>46661100</td>\n",
       "    </tr>\n",
       "    <tr>\n",
       "      <th>3</th>\n",
       "      <td>2019-05-15</td>\n",
       "      <td>39.369999</td>\n",
       "      <td>41.880001</td>\n",
       "      <td>38.950001</td>\n",
       "      <td>41.290001</td>\n",
       "      <td>41.290001</td>\n",
       "      <td>36086100</td>\n",
       "    </tr>\n",
       "    <tr>\n",
       "      <th>4</th>\n",
       "      <td>2019-05-16</td>\n",
       "      <td>41.480000</td>\n",
       "      <td>44.060001</td>\n",
       "      <td>41.250000</td>\n",
       "      <td>43.000000</td>\n",
       "      <td>43.000000</td>\n",
       "      <td>38115500</td>\n",
       "    </tr>\n",
       "  </tbody>\n",
       "</table>\n",
       "</div>"
      ],
      "text/plain": [
       "         Date       Open       High        Low      Close  Adj Close  \\\n",
       "0  2019-05-10  42.000000  45.000000  41.060001  41.570000  41.570000   \n",
       "1  2019-05-13  38.790001  39.240002  36.080002  37.099998  37.099998   \n",
       "2  2019-05-14  38.310001  39.959999  36.849998  39.959999  39.959999   \n",
       "3  2019-05-15  39.369999  41.880001  38.950001  41.290001  41.290001   \n",
       "4  2019-05-16  41.480000  44.060001  41.250000  43.000000  43.000000   \n",
       "\n",
       "      Volume  \n",
       "0  186322500  \n",
       "1   79442400  \n",
       "2   46661100  \n",
       "3   36086100  \n",
       "4   38115500  "
      ]
     },
     "execution_count": 3,
     "metadata": {},
     "output_type": "execute_result"
    }
   ],
   "source": [
    "data .head()"
   ]
  },
  {
   "cell_type": "code",
   "execution_count": 4,
   "id": "7fe2b332",
   "metadata": {
    "execution": {
     "iopub.execute_input": "2023-08-09T14:17:36.475225Z",
     "iopub.status.busy": "2023-08-09T14:17:36.474439Z",
     "iopub.status.idle": "2023-08-09T14:17:36.518104Z",
     "shell.execute_reply": "2023-08-09T14:17:36.516768Z"
    },
    "papermill": {
     "duration": 0.065605,
     "end_time": "2023-08-09T14:17:36.521431",
     "exception": false,
     "start_time": "2023-08-09T14:17:36.455826",
     "status": "completed"
    },
    "tags": []
   },
   "outputs": [
    {
     "data": {
      "text/html": [
       "<div>\n",
       "<style scoped>\n",
       "    .dataframe tbody tr th:only-of-type {\n",
       "        vertical-align: middle;\n",
       "    }\n",
       "\n",
       "    .dataframe tbody tr th {\n",
       "        vertical-align: top;\n",
       "    }\n",
       "\n",
       "    .dataframe thead th {\n",
       "        text-align: right;\n",
       "    }\n",
       "</style>\n",
       "<table border=\"1\" class=\"dataframe\">\n",
       "  <thead>\n",
       "    <tr style=\"text-align: right;\">\n",
       "      <th></th>\n",
       "      <th>Open</th>\n",
       "      <th>High</th>\n",
       "      <th>Low</th>\n",
       "      <th>Close</th>\n",
       "      <th>Adj Close</th>\n",
       "      <th>Volume</th>\n",
       "    </tr>\n",
       "  </thead>\n",
       "  <tbody>\n",
       "    <tr>\n",
       "      <th>count</th>\n",
       "      <td>725.000000</td>\n",
       "      <td>725.000000</td>\n",
       "      <td>725.000000</td>\n",
       "      <td>725.000000</td>\n",
       "      <td>725.000000</td>\n",
       "      <td>7.250000e+02</td>\n",
       "    </tr>\n",
       "    <tr>\n",
       "      <th>mean</th>\n",
       "      <td>40.166447</td>\n",
       "      <td>40.961435</td>\n",
       "      <td>39.261123</td>\n",
       "      <td>40.107255</td>\n",
       "      <td>40.107255</td>\n",
       "      <td>2.472855e+07</td>\n",
       "    </tr>\n",
       "    <tr>\n",
       "      <th>std</th>\n",
       "      <td>9.198940</td>\n",
       "      <td>9.259164</td>\n",
       "      <td>9.075919</td>\n",
       "      <td>9.141862</td>\n",
       "      <td>9.141862</td>\n",
       "      <td>1.691406e+07</td>\n",
       "    </tr>\n",
       "    <tr>\n",
       "      <th>min</th>\n",
       "      <td>15.960000</td>\n",
       "      <td>17.799999</td>\n",
       "      <td>13.710000</td>\n",
       "      <td>14.820000</td>\n",
       "      <td>14.820000</td>\n",
       "      <td>3.380000e+06</td>\n",
       "    </tr>\n",
       "    <tr>\n",
       "      <th>25%</th>\n",
       "      <td>32.730000</td>\n",
       "      <td>33.419998</td>\n",
       "      <td>31.983000</td>\n",
       "      <td>32.799999</td>\n",
       "      <td>32.799999</td>\n",
       "      <td>1.423060e+07</td>\n",
       "    </tr>\n",
       "    <tr>\n",
       "      <th>50%</th>\n",
       "      <td>39.000000</td>\n",
       "      <td>39.959999</td>\n",
       "      <td>38.009998</td>\n",
       "      <td>38.810001</td>\n",
       "      <td>38.810001</td>\n",
       "      <td>2.079540e+07</td>\n",
       "    </tr>\n",
       "    <tr>\n",
       "      <th>75%</th>\n",
       "      <td>46.700001</td>\n",
       "      <td>47.520000</td>\n",
       "      <td>45.860001</td>\n",
       "      <td>46.419998</td>\n",
       "      <td>46.419998</td>\n",
       "      <td>3.011960e+07</td>\n",
       "    </tr>\n",
       "    <tr>\n",
       "      <th>max</th>\n",
       "      <td>63.250000</td>\n",
       "      <td>64.050003</td>\n",
       "      <td>60.799999</td>\n",
       "      <td>63.180000</td>\n",
       "      <td>63.180000</td>\n",
       "      <td>1.863225e+08</td>\n",
       "    </tr>\n",
       "  </tbody>\n",
       "</table>\n",
       "</div>"
      ],
      "text/plain": [
       "             Open        High         Low       Close   Adj Close  \\\n",
       "count  725.000000  725.000000  725.000000  725.000000  725.000000   \n",
       "mean    40.166447   40.961435   39.261123   40.107255   40.107255   \n",
       "std      9.198940    9.259164    9.075919    9.141862    9.141862   \n",
       "min     15.960000   17.799999   13.710000   14.820000   14.820000   \n",
       "25%     32.730000   33.419998   31.983000   32.799999   32.799999   \n",
       "50%     39.000000   39.959999   38.009998   38.810001   38.810001   \n",
       "75%     46.700001   47.520000   45.860001   46.419998   46.419998   \n",
       "max     63.250000   64.050003   60.799999   63.180000   63.180000   \n",
       "\n",
       "             Volume  \n",
       "count  7.250000e+02  \n",
       "mean   2.472855e+07  \n",
       "std    1.691406e+07  \n",
       "min    3.380000e+06  \n",
       "25%    1.423060e+07  \n",
       "50%    2.079540e+07  \n",
       "75%    3.011960e+07  \n",
       "max    1.863225e+08  "
      ]
     },
     "execution_count": 4,
     "metadata": {},
     "output_type": "execute_result"
    }
   ],
   "source": [
    "data.describe()"
   ]
  },
  {
   "cell_type": "markdown",
   "id": "02084c55",
   "metadata": {
    "papermill": {
     "duration": 0.017453,
     "end_time": "2023-08-09T14:17:36.556934",
     "exception": false,
     "start_time": "2023-08-09T14:17:36.539481",
     "status": "completed"
    },
    "tags": []
   },
   "source": [
    "**Preprocessing the Data**"
   ]
  },
  {
   "cell_type": "code",
   "execution_count": 5,
   "id": "872e6977",
   "metadata": {
    "execution": {
     "iopub.execute_input": "2023-08-09T14:17:36.596110Z",
     "iopub.status.busy": "2023-08-09T14:17:36.594871Z",
     "iopub.status.idle": "2023-08-09T14:17:36.604811Z",
     "shell.execute_reply": "2023-08-09T14:17:36.603763Z"
    },
    "papermill": {
     "duration": 0.033259,
     "end_time": "2023-08-09T14:17:36.607910",
     "exception": false,
     "start_time": "2023-08-09T14:17:36.574651",
     "status": "completed"
    },
    "tags": []
   },
   "outputs": [],
   "source": [
    "data['Close'] = data['Close'].astype(str)  # Convert the column to string type\n",
    "data['Close'] = data['Close'].str.replace(',', '', regex=True)  # Remove commas\n",
    "data['Close'] = data['Close'].astype(float)"
   ]
  },
  {
   "cell_type": "code",
   "execution_count": 6,
   "id": "b98c2d3a",
   "metadata": {
    "execution": {
     "iopub.execute_input": "2023-08-09T14:17:36.644417Z",
     "iopub.status.busy": "2023-08-09T14:17:36.643903Z",
     "iopub.status.idle": "2023-08-09T14:17:36.661474Z",
     "shell.execute_reply": "2023-08-09T14:17:36.660228Z"
    },
    "papermill": {
     "duration": 0.039638,
     "end_time": "2023-08-09T14:17:36.664884",
     "exception": false,
     "start_time": "2023-08-09T14:17:36.625246",
     "status": "completed"
    },
    "tags": []
   },
   "outputs": [
    {
     "name": "stdout",
     "output_type": "stream",
     "text": [
      "[41.57     37.099998 39.959999 41.290001 43.       41.91     41.59\n",
      " 41.5      41.25     40.470001 41.509998 40.950001 39.939999 39.799999\n",
      " 40.41     42.75     45.       44.919998 44.16     42.610001 42.450001\n",
      " 42.169998 44.310001 43.23     43.779999 43.860001 44.860001 44.\n",
      " 43.09     42.5      45.130001 46.380001 44.27     44.23     43.529999\n",
      " 42.950001 44.200001 43.700001 43.990002 44.529999 44.130001 43.619999\n",
      " 43.709999 43.18     43.689999 43.360001 43.759998 43.400002 44.52\n",
      " 43.880001 42.59     42.139999 41.310001 40.400002 39.049999 39.150002\n",
      " 39.700001 42.970001 40.049999 37.       36.450001 33.959999 33.220001\n",
      " 35.23     34.610001 35.290001 34.91     34.       33.43     33.310001\n",
      " 33.110001 32.59     32.759998 32.57     30.700001 31.99     32.509998\n",
      " 31.860001 32.240002 33.509998 34.07     33.25     34.43     34.290001\n",
      " 34.259998 33.82     32.599998 33.       31.299999 31.68     31.57\n",
      " 30.290001 30.469999 29.15     29.       29.719999 29.67     30.370001\n",
      " 29.280001 29.07     28.870001 30.129999 31.120001 32.       31.870001\n",
      " 32.619999 32.060001 31.41     32.529999 33.049999 33.279999 32.709999\n",
      " 32.419998 33.75     31.5      31.370001 31.08     28.02     26.940001\n",
      " 27.379999 27.01     27.139999 26.700001 26.709999 25.99     26.790001\n",
      " 26.75     27.049999 28.030001 29.459999 29.559999 29.110001 29.530001\n",
      " 29.49     29.6      28.98     29.02     29.059999 28.65     27.860001\n",
      " 27.68     27.889999 28.42     28.690001 28.49     30.049999 29.75\n",
      " 29.99     30.450001 30.33     30.440001 30.67     30.17     29.74\n",
      " 30.99     31.58     32.810001 33.93     33.970001 34.009998 34.139999\n",
      " 34.84     35.009998 34.68     35.130001 37.599998 37.040001 37.400002\n",
      " 36.799999 36.299999 37.009998 36.990002 36.68     36.290001 37.59\n",
      " 38.529999 36.810001 37.09     40.630001 40.009998 41.27     40.09\n",
      " 39.66     40.18     41.049999 40.919998 40.720001 38.310001 35.889999\n",
      " 34.450001 32.450001 33.869999 32.849998 33.040001 34.529999 32.209999\n",
      " 28.17     28.969999 26.24     22.610001 22.6      20.290001 18.91\n",
      " 14.82     20.49     21.33     22.4      26.389999 26.190001 28.120001\n",
      " 27.280001 27.83     27.92     25.42     23.68     22.82     25.74\n",
      " 27.110001 27.99     27.75     27.41     27.030001 28.       28.190001\n",
      " 27.190001 28.24     28.33     30.08     30.120001 30.27     28.389999\n",
      " 27.42     28.07     27.82     30.93     32.790001 31.639999 32.400002\n",
      " 33.02     32.470001 33.619999 33.400002 34.48     34.830002 34.560001\n",
      " 34.880001 34.150002 36.32     35.82     35.810001 36.75     36.43\n",
      " 37.209999 37.080002 36.59     31.1      32.669998 33.490002 33.290001\n",
      " 32.299999 32.68     30.459999 30.58     29.610001 29.629999 30.43\n",
      " 30.68     32.52     32.82     33.150002 33.139999 31.719999 32.349998\n",
      " 32.549999 33.66     32.66     32.169998 31.18     30.809999 31.02\n",
      " 30.24     30.26     31.190001 33.200001 34.709999 32.900002 32.27\n",
      " 31.209999 30.84     29.48     29.42     30.83     31.040001 32.799999\n",
      " 33.799999 33.630001 34.299999 34.369999 33.41     33.240002 34.32\n",
      " 35.98     36.98     37.950001 37.470001 37.66     37.060001 37.119999\n",
      " 36.490002 34.400002 33.549999 33.349998 34.459999 35.560001 35.43\n",
      " 36.48     37.139999 37.720001 36.259998 36.779999 37.34     37.27\n",
      " 35.110001 33.720001 34.220001 36.310001 35.200001 36.700001 35.490002\n",
      " 34.16     33.650002 34.060001 34.810001 35.77     40.990002 41.959999\n",
      " 44.869999 48.18     47.       46.23     46.400002 47.610001 49.209999\n",
      " 48.889999 49.110001 49.259998 48.43     50.040001 51.259998 50.799999\n",
      " 50.720001 49.66     49.630001 53.09     52.52     54.860001 53.799999\n",
      " 53.009998 53.790001 54.349998 52.630001 51.459999 51.       50.490002\n",
      " 50.630001 50.619999 51.799999 53.779999 53.709999 52.880001 51.970001\n",
      " 52.27     53.150002 51.139999 54.009998 52.48     56.130001 53.279999\n",
      " 54.59     58.540001 59.400002 56.91     55.52     56.299999 56.380001\n",
      " 55.790001 54.310001 54.290001 51.919998 48.110001 51.580002 50.93\n",
      " 52.759998 56.459999 57.119999 57.849998 58.580002 59.290001 59.610001\n",
      " 63.18     60.709999 60.630001 60.52     60.810001 59.       58.389999\n",
      " 55.310001 56.       53.91     51.450001 51.75     54.400002 54.650002\n",
      " 56.110001 53.07     55.540001 53.200001 55.25     57.68     58.950001\n",
      " 60.349998 60.189999 58.849998 56.360001 55.689999 57.080002 53.490002\n",
      " 52.57     53.889999 54.709999 53.349998 53.459999 54.509998 57.599998\n",
      " 57.400002 58.049999 56.889999 57.830002 59.439999 60.639999 59.23\n",
      " 60.740002 55.48     55.77     56.279999 57.93     57.610001 57.16\n",
      " 58.439999 54.93     54.77     54.849998 52.990002 51.18     46.650002\n",
      " 47.029999 45.790001 46.209999 43.810001 44.48     47.419998 47.509998\n",
      " 49.169998 49.470001 49.330002 48.82     50.029999 50.459999 51.119999\n",
      " 50.709999 50.830002 50.98     50.790001 48.700001 50.18     50.759998\n",
      " 49.880001 49.139999 49.549999 50.009998 50.77     49.299999 49.700001\n",
      " 48.119999 49.049999 50.509998 50.82     51.73     51.110001 50.119999\n",
      " 50.59     51.709999 48.68     47.549999 49.07     48.41     48.080002\n",
      " 47.150002 46.419998 46.189999 45.560001 46.32     47.52     47.57\n",
      " 47.459999 46.810001 45.82     46.139999 44.689999 43.459999 43.490002\n",
      " 42.790001 41.810001 43.07     44.279999 43.25     43.5      43.080002\n",
      " 42.73     42.220001 41.       40.880001 39.860001 39.950001 40.169998\n",
      " 41.549999 40.619999 40.689999 39.59     39.139999 41.400002 40.32\n",
      " 40.07     40.349998 39.889999 39.009998 38.48     39.52     39.75\n",
      " 39.790001 44.360001 45.48     46.630001 47.25     45.98     44.799999\n",
      " 47.049999 45.720001 45.610001 47.009998 47.91     47.77     46.290001\n",
      " 46.720001 46.41     47.279999 48.360001 47.07     46.       46.470001\n",
      " 45.509998 46.02     44.73     44.619999 43.82     42.889999 45.27\n",
      " 47.189999 45.889999 43.380001 43.279999 45.119999 43.610001 45.759998\n",
      " 44.110001 42.599998 42.68     42.080002 40.52     38.       36.02\n",
      " 38.119999 35.849998 38.490002 38.080002 38.810001 37.540001 36.669998\n",
      " 35.73     37.259998 37.830002 37.700001 39.68     41.970001 43.02\n",
      " 43.91     42.959999 42.540001 42.459999 42.66     41.93     43.950001\n",
      " 44.419998 43.240002 42.029999 43.040001 42.869999 38.41     37.860001\n",
      " 37.82     35.939999 36.279999 34.82     34.799999 34.09     35.209999\n",
      " 38.610001 37.169998 34.540001 37.049999 38.34     40.189999 37.75\n",
      " 34.59     36.580002 35.709999 33.68     32.389999 34.869999 34.98\n",
      " 36.029999 33.889999 34.040001 29.83     28.57     30.74     30.41\n",
      " 30.76     29.27     29.799999 32.610001 33.360001 31.98     33.060001\n",
      " 34.700001]\n"
     ]
    }
   ],
   "source": [
    "print(data['Close'].unique())"
   ]
  },
  {
   "cell_type": "code",
   "execution_count": 7,
   "id": "e78d2b6c",
   "metadata": {
    "execution": {
     "iopub.execute_input": "2023-08-09T14:17:36.701934Z",
     "iopub.status.busy": "2023-08-09T14:17:36.701103Z",
     "iopub.status.idle": "2023-08-09T14:17:36.708017Z",
     "shell.execute_reply": "2023-08-09T14:17:36.706910Z"
    },
    "papermill": {
     "duration": 0.02804,
     "end_time": "2023-08-09T14:17:36.710213",
     "exception": false,
     "start_time": "2023-08-09T14:17:36.682173",
     "status": "completed"
    },
    "tags": []
   },
   "outputs": [
    {
     "data": {
      "text/plain": [
       "Index(['Date', 'Open', 'High', 'Low', 'Close', 'Adj Close', 'Volume'], dtype='object')"
      ]
     },
     "execution_count": 7,
     "metadata": {},
     "output_type": "execute_result"
    }
   ],
   "source": [
    "data.columns"
   ]
  },
  {
   "cell_type": "markdown",
   "id": "9d4473c8",
   "metadata": {
    "papermill": {
     "duration": 0.016782,
     "end_time": "2023-08-09T14:17:36.744157",
     "exception": false,
     "start_time": "2023-08-09T14:17:36.727375",
     "status": "completed"
    },
    "tags": []
   },
   "source": [
    "****Checking Missing Dates in the time series**"
   ]
  },
  {
   "cell_type": "code",
   "execution_count": 8,
   "id": "cb12359f",
   "metadata": {
    "execution": {
     "iopub.execute_input": "2023-08-09T14:17:36.782155Z",
     "iopub.status.busy": "2023-08-09T14:17:36.781268Z",
     "iopub.status.idle": "2023-08-09T14:17:36.790699Z",
     "shell.execute_reply": "2023-08-09T14:17:36.789210Z"
    },
    "papermill": {
     "duration": 0.031819,
     "end_time": "2023-08-09T14:17:36.793191",
     "exception": false,
     "start_time": "2023-08-09T14:17:36.761372",
     "status": "completed"
    },
    "tags": []
   },
   "outputs": [
    {
     "name": "stdout",
     "output_type": "stream",
     "text": [
      "Difference is -1049 days\n"
     ]
    }
   ],
   "source": [
    "from datetime import datetime\n",
    "a = data['Date'].min()\n",
    "b = data['Date'].max()\n",
    "\n",
    "d1 = datetime.strptime(b, \"%Y-%m-%d\")\n",
    "d2 = datetime.strptime(a, \"%Y-%m-%d\")\n",
    "\n",
    "# difference between dates in timedelta\n",
    "delta = d2 - d1\n",
    "print(f'Difference is {delta.days} days')"
   ]
  },
  {
   "cell_type": "code",
   "execution_count": 9,
   "id": "b1e3520b",
   "metadata": {
    "execution": {
     "iopub.execute_input": "2023-08-09T14:17:36.830615Z",
     "iopub.status.busy": "2023-08-09T14:17:36.830119Z",
     "iopub.status.idle": "2023-08-09T14:17:36.840202Z",
     "shell.execute_reply": "2023-08-09T14:17:36.839024Z"
    },
    "papermill": {
     "duration": 0.031841,
     "end_time": "2023-08-09T14:17:36.842657",
     "exception": false,
     "start_time": "2023-08-09T14:17:36.810816",
     "status": "completed"
    },
    "tags": []
   },
   "outputs": [
    {
     "data": {
      "text/plain": [
       "725"
      ]
     },
     "execution_count": 9,
     "metadata": {},
     "output_type": "execute_result"
    }
   ],
   "source": [
    "data['Date'].nunique()"
   ]
  },
  {
   "cell_type": "code",
   "execution_count": 10,
   "id": "0858ad48",
   "metadata": {
    "execution": {
     "iopub.execute_input": "2023-08-09T14:17:36.883217Z",
     "iopub.status.busy": "2023-08-09T14:17:36.882374Z",
     "iopub.status.idle": "2023-08-09T14:17:36.903340Z",
     "shell.execute_reply": "2023-08-09T14:17:36.902005Z"
    },
    "papermill": {
     "duration": 0.045021,
     "end_time": "2023-08-09T14:17:36.906087",
     "exception": false,
     "start_time": "2023-08-09T14:17:36.861066",
     "status": "completed"
    },
    "tags": []
   },
   "outputs": [
    {
     "data": {
      "text/html": [
       "<div>\n",
       "<style scoped>\n",
       "    .dataframe tbody tr th:only-of-type {\n",
       "        vertical-align: middle;\n",
       "    }\n",
       "\n",
       "    .dataframe tbody tr th {\n",
       "        vertical-align: top;\n",
       "    }\n",
       "\n",
       "    .dataframe thead th {\n",
       "        text-align: right;\n",
       "    }\n",
       "</style>\n",
       "<table border=\"1\" class=\"dataframe\">\n",
       "  <thead>\n",
       "    <tr style=\"text-align: right;\">\n",
       "      <th></th>\n",
       "      <th>Open</th>\n",
       "      <th>High</th>\n",
       "      <th>Low</th>\n",
       "      <th>Close</th>\n",
       "      <th>Adj Close</th>\n",
       "      <th>Volume</th>\n",
       "    </tr>\n",
       "    <tr>\n",
       "      <th>Date</th>\n",
       "      <th></th>\n",
       "      <th></th>\n",
       "      <th></th>\n",
       "      <th></th>\n",
       "      <th></th>\n",
       "      <th></th>\n",
       "    </tr>\n",
       "  </thead>\n",
       "  <tbody>\n",
       "    <tr>\n",
       "      <th>2019-05-10</th>\n",
       "      <td>42.000000</td>\n",
       "      <td>45.000000</td>\n",
       "      <td>41.060001</td>\n",
       "      <td>41.570000</td>\n",
       "      <td>41.570000</td>\n",
       "      <td>186322500</td>\n",
       "    </tr>\n",
       "    <tr>\n",
       "      <th>2019-05-13</th>\n",
       "      <td>38.790001</td>\n",
       "      <td>39.240002</td>\n",
       "      <td>36.080002</td>\n",
       "      <td>37.099998</td>\n",
       "      <td>37.099998</td>\n",
       "      <td>79442400</td>\n",
       "    </tr>\n",
       "    <tr>\n",
       "      <th>2019-05-14</th>\n",
       "      <td>38.310001</td>\n",
       "      <td>39.959999</td>\n",
       "      <td>36.849998</td>\n",
       "      <td>39.959999</td>\n",
       "      <td>39.959999</td>\n",
       "      <td>46661100</td>\n",
       "    </tr>\n",
       "    <tr>\n",
       "      <th>2019-05-15</th>\n",
       "      <td>39.369999</td>\n",
       "      <td>41.880001</td>\n",
       "      <td>38.950001</td>\n",
       "      <td>41.290001</td>\n",
       "      <td>41.290001</td>\n",
       "      <td>36086100</td>\n",
       "    </tr>\n",
       "    <tr>\n",
       "      <th>2019-05-16</th>\n",
       "      <td>41.480000</td>\n",
       "      <td>44.060001</td>\n",
       "      <td>41.250000</td>\n",
       "      <td>43.000000</td>\n",
       "      <td>43.000000</td>\n",
       "      <td>38115500</td>\n",
       "    </tr>\n",
       "  </tbody>\n",
       "</table>\n",
       "</div>"
      ],
      "text/plain": [
       "                 Open       High        Low      Close  Adj Close     Volume\n",
       "Date                                                                        \n",
       "2019-05-10  42.000000  45.000000  41.060001  41.570000  41.570000  186322500\n",
       "2019-05-13  38.790001  39.240002  36.080002  37.099998  37.099998   79442400\n",
       "2019-05-14  38.310001  39.959999  36.849998  39.959999  39.959999   46661100\n",
       "2019-05-15  39.369999  41.880001  38.950001  41.290001  41.290001   36086100\n",
       "2019-05-16  41.480000  44.060001  41.250000  43.000000  43.000000   38115500"
      ]
     },
     "execution_count": 10,
     "metadata": {},
     "output_type": "execute_result"
    }
   ],
   "source": [
    "data['Date'] =  pd.to_datetime(data['Date'], format='%Y-%m-%d')\n",
    "data.set_index('Date', inplace=True)\n",
    "data.head()"
   ]
  },
  {
   "cell_type": "code",
   "execution_count": 11,
   "id": "e8500173",
   "metadata": {
    "execution": {
     "iopub.execute_input": "2023-08-09T14:17:36.945192Z",
     "iopub.status.busy": "2023-08-09T14:17:36.944295Z",
     "iopub.status.idle": "2023-08-09T14:17:36.976636Z",
     "shell.execute_reply": "2023-08-09T14:17:36.975287Z"
    },
    "papermill": {
     "duration": 0.055159,
     "end_time": "2023-08-09T14:17:36.979611",
     "exception": false,
     "start_time": "2023-08-09T14:17:36.924452",
     "status": "completed"
    },
    "tags": []
   },
   "outputs": [
    {
     "data": {
      "text/plain": [
       "1050"
      ]
     },
     "execution_count": 11,
     "metadata": {},
     "output_type": "execute_result"
    }
   ],
   "source": [
    "data = data.resample('D').ffill().reset_index()\n",
    "data['Date'].nunique()"
   ]
  },
  {
   "cell_type": "code",
   "execution_count": 12,
   "id": "b9442f7b",
   "metadata": {
    "execution": {
     "iopub.execute_input": "2023-08-09T14:17:37.018426Z",
     "iopub.status.busy": "2023-08-09T14:17:37.017950Z",
     "iopub.status.idle": "2023-08-09T14:17:37.034885Z",
     "shell.execute_reply": "2023-08-09T14:17:37.033696Z"
    },
    "papermill": {
     "duration": 0.039829,
     "end_time": "2023-08-09T14:17:37.037697",
     "exception": false,
     "start_time": "2023-08-09T14:17:36.997868",
     "status": "completed"
    },
    "tags": []
   },
   "outputs": [
    {
     "data": {
      "text/html": [
       "<div>\n",
       "<style scoped>\n",
       "    .dataframe tbody tr th:only-of-type {\n",
       "        vertical-align: middle;\n",
       "    }\n",
       "\n",
       "    .dataframe tbody tr th {\n",
       "        vertical-align: top;\n",
       "    }\n",
       "\n",
       "    .dataframe thead th {\n",
       "        text-align: right;\n",
       "    }\n",
       "</style>\n",
       "<table border=\"1\" class=\"dataframe\">\n",
       "  <thead>\n",
       "    <tr style=\"text-align: right;\">\n",
       "      <th></th>\n",
       "      <th>Close</th>\n",
       "    </tr>\n",
       "  </thead>\n",
       "  <tbody>\n",
       "    <tr>\n",
       "      <th>0</th>\n",
       "      <td>41.570000</td>\n",
       "    </tr>\n",
       "    <tr>\n",
       "      <th>1</th>\n",
       "      <td>41.570000</td>\n",
       "    </tr>\n",
       "    <tr>\n",
       "      <th>2</th>\n",
       "      <td>41.570000</td>\n",
       "    </tr>\n",
       "    <tr>\n",
       "      <th>3</th>\n",
       "      <td>37.099998</td>\n",
       "    </tr>\n",
       "    <tr>\n",
       "      <th>4</th>\n",
       "      <td>39.959999</td>\n",
       "    </tr>\n",
       "    <tr>\n",
       "      <th>...</th>\n",
       "      <td>...</td>\n",
       "    </tr>\n",
       "    <tr>\n",
       "      <th>1045</th>\n",
       "      <td>33.360001</td>\n",
       "    </tr>\n",
       "    <tr>\n",
       "      <th>1046</th>\n",
       "      <td>31.980000</td>\n",
       "    </tr>\n",
       "    <tr>\n",
       "      <th>1047</th>\n",
       "      <td>33.349998</td>\n",
       "    </tr>\n",
       "    <tr>\n",
       "      <th>1048</th>\n",
       "      <td>33.060001</td>\n",
       "    </tr>\n",
       "    <tr>\n",
       "      <th>1049</th>\n",
       "      <td>34.700001</td>\n",
       "    </tr>\n",
       "  </tbody>\n",
       "</table>\n",
       "<p>1050 rows × 1 columns</p>\n",
       "</div>"
      ],
      "text/plain": [
       "          Close\n",
       "0     41.570000\n",
       "1     41.570000\n",
       "2     41.570000\n",
       "3     37.099998\n",
       "4     39.959999\n",
       "...         ...\n",
       "1045  33.360001\n",
       "1046  31.980000\n",
       "1047  33.349998\n",
       "1048  33.060001\n",
       "1049  34.700001\n",
       "\n",
       "[1050 rows x 1 columns]"
      ]
     },
     "execution_count": 12,
     "metadata": {},
     "output_type": "execute_result"
    }
   ],
   "source": [
    "df1 = data[['Close']]\n",
    "df1"
   ]
  },
  {
   "cell_type": "markdown",
   "id": "0f2fca4d",
   "metadata": {
    "papermill": {
     "duration": 0.018651,
     "end_time": "2023-08-09T14:17:37.075658",
     "exception": false,
     "start_time": "2023-08-09T14:17:37.057007",
     "status": "completed"
    },
    "tags": []
   },
   "source": [
    "**Plotting time series**"
   ]
  },
  {
   "cell_type": "code",
   "execution_count": 13,
   "id": "cdf036f4",
   "metadata": {
    "execution": {
     "iopub.execute_input": "2023-08-09T14:17:37.114360Z",
     "iopub.status.busy": "2023-08-09T14:17:37.113844Z",
     "iopub.status.idle": "2023-08-09T14:17:37.397610Z",
     "shell.execute_reply": "2023-08-09T14:17:37.396702Z"
    },
    "papermill": {
     "duration": 0.305832,
     "end_time": "2023-08-09T14:17:37.399800",
     "exception": false,
     "start_time": "2023-08-09T14:17:37.093968",
     "status": "completed"
    },
    "tags": []
   },
   "outputs": [
    {
     "data": {
      "image/png": "[encoded data removed]",
      "text/plain": [
       "<Figure size 640x480 with 1 Axes>"
      ]
     },
     "metadata": {},
     "output_type": "display_data"
    }
   ],
   "source": [
    "plt.style.use('dark_background')\n",
    "fig, ax = plt.subplots()\n",
    "ax.plot(df1, color='green')\n",
    "plt.show()\n"
   ]
  },
  {
   "cell_type": "code",
   "execution_count": 14,
   "id": "6243d0b9",
   "metadata": {
    "execution": {
     "iopub.execute_input": "2023-08-09T14:17:37.438646Z",
     "iopub.status.busy": "2023-08-09T14:17:37.438199Z",
     "iopub.status.idle": "2023-08-09T14:17:37.740081Z",
     "shell.execute_reply": "2023-08-09T14:17:37.738754Z"
    },
    "papermill": {
     "duration": 0.324222,
     "end_time": "2023-08-09T14:17:37.742700",
     "exception": false,
     "start_time": "2023-08-09T14:17:37.418478",
     "status": "completed"
    },
    "tags": []
   },
   "outputs": [
    {
     "data": {
      "image/png": "[encoded data removed]",
      "text/plain": [
       "<Figure size 640x480 with 1 Axes>"
      ]
     },
     "metadata": {},
     "output_type": "display_data"
    }
   ],
   "source": [
    "fig, ax = plt.subplots()\n",
    "fig.patch.set_facecolor('black')\n",
    "ax.set_facecolor('black')\n",
    "plt.hist(df1, alpha=0.5, color='cyan')\n",
    "ax.set_ylabel('Frequency')\n",
    "ax.set_title('Histogram with Black Background')\n",
    "plt.show()"
   ]
  },
  {
   "cell_type": "code",
   "execution_count": 15,
   "id": "49c2c701",
   "metadata": {
    "execution": {
     "iopub.execute_input": "2023-08-09T14:17:37.782289Z",
     "iopub.status.busy": "2023-08-09T14:17:37.781898Z",
     "iopub.status.idle": "2023-08-09T14:17:38.581628Z",
     "shell.execute_reply": "2023-08-09T14:17:38.580272Z"
    },
    "papermill": {
     "duration": 0.822575,
     "end_time": "2023-08-09T14:17:38.584181",
     "exception": false,
     "start_time": "2023-08-09T14:17:37.761606",
     "status": "completed"
    },
    "tags": []
   },
   "outputs": [
    {
     "data": {
      "image/png": "[encoded data removed]",
      "text/plain": [
       "<Figure size 640x480 with 1 Axes>"
      ]
     },
     "metadata": {},
     "output_type": "display_data"
    }
   ],
   "source": [
    "from statsmodels.graphics.tsaplots import plot_pacf\n",
    "plot_pacf(df1, lags = 40);"
   ]
  },
  {
   "cell_type": "code",
   "execution_count": 16,
   "id": "69d3c0d6",
   "metadata": {
    "execution": {
     "iopub.execute_input": "2023-08-09T14:17:38.626105Z",
     "iopub.status.busy": "2023-08-09T14:17:38.625673Z",
     "iopub.status.idle": "2023-08-09T14:17:39.020405Z",
     "shell.execute_reply": "2023-08-09T14:17:39.019142Z"
    },
    "papermill": {
     "duration": 0.419159,
     "end_time": "2023-08-09T14:17:39.023059",
     "exception": false,
     "start_time": "2023-08-09T14:17:38.603900",
     "status": "completed"
    },
    "tags": []
   },
   "outputs": [
    {
     "data": {
      "image/png": "[encoded data removed]",
      "text/plain": [
       "<Figure size 640x480 with 1 Axes>"
      ]
     },
     "metadata": {},
     "output_type": "display_data"
    }
   ],
   "source": [
    "from statsmodels.graphics.tsaplots import plot_acf\n",
    "plot_acf(df1, lags = 40);"
   ]
  },
  {
   "cell_type": "markdown",
   "id": "cf72371c",
   "metadata": {
    "papermill": {
     "duration": 0.021194,
     "end_time": "2023-08-09T14:17:39.065388",
     "exception": false,
     "start_time": "2023-08-09T14:17:39.044194",
     "status": "completed"
    },
    "tags": []
   },
   "source": [
    "****Stationarity Test****"
   ]
  },
  {
   "cell_type": "code",
   "execution_count": 17,
   "id": "72ad6420",
   "metadata": {
    "execution": {
     "iopub.execute_input": "2023-08-09T14:17:39.107818Z",
     "iopub.status.busy": "2023-08-09T14:17:39.107350Z",
     "iopub.status.idle": "2023-08-09T14:17:39.189603Z",
     "shell.execute_reply": "2023-08-09T14:17:39.188450Z"
    },
    "papermill": {
     "duration": 0.107912,
     "end_time": "2023-08-09T14:17:39.193577",
     "exception": false,
     "start_time": "2023-08-09T14:17:39.085665",
     "status": "completed"
    },
    "tags": []
   },
   "outputs": [
    {
     "name": "stdout",
     "output_type": "stream",
     "text": [
      "p-value: 0.336076\n"
     ]
    }
   ],
   "source": [
    "from statsmodels.tsa.stattools import adfuller\n",
    "a  = adfuller(df1.values, maxlag=None, regression='c', autolag='AIC', store=False, regresults=False)\n",
    "print('p-value: %f' % a[1])"
   ]
  },
  {
   "cell_type": "markdown",
   "id": "980e6480",
   "metadata": {
    "papermill": {
     "duration": 0.04288,
     "end_time": "2023-08-09T14:17:39.280050",
     "exception": false,
     "start_time": "2023-08-09T14:17:39.237170",
     "status": "completed"
    },
    "tags": []
   },
   "source": [
    "**Scaling Data**"
   ]
  },
  {
   "cell_type": "code",
   "execution_count": 18,
   "id": "600d4d0b",
   "metadata": {
    "execution": {
     "iopub.execute_input": "2023-08-09T14:17:39.334987Z",
     "iopub.status.busy": "2023-08-09T14:17:39.334560Z",
     "iopub.status.idle": "2023-08-09T14:17:39.344428Z",
     "shell.execute_reply": "2023-08-09T14:17:39.343260Z"
    },
    "papermill": {
     "duration": 0.033381,
     "end_time": "2023-08-09T14:17:39.346921",
     "exception": false,
     "start_time": "2023-08-09T14:17:39.313540",
     "status": "completed"
    },
    "tags": []
   },
   "outputs": [
    {
     "data": {
      "text/plain": [
       "(1050, 1)"
      ]
     },
     "execution_count": 18,
     "metadata": {},
     "output_type": "execute_result"
    }
   ],
   "source": [
    "from sklearn.preprocessing import MinMaxScaler\n",
    "scaler = MinMaxScaler(feature_range=(0,1))\n",
    "df1 = scaler.fit_transform(np.array(df1).reshape(-1,1))\n",
    "df1.shape"
   ]
  },
  {
   "cell_type": "markdown",
   "id": "32096fee",
   "metadata": {
    "papermill": {
     "duration": 0.020676,
     "end_time": "2023-08-09T14:17:39.388112",
     "exception": false,
     "start_time": "2023-08-09T14:17:39.367436",
     "status": "completed"
    },
    "tags": []
   },
   "source": [
    "**Split Data into train and test data**"
   ]
  },
  {
   "cell_type": "code",
   "execution_count": 19,
   "id": "e7041fbc",
   "metadata": {
    "execution": {
     "iopub.execute_input": "2023-08-09T14:17:39.432761Z",
     "iopub.status.busy": "2023-08-09T14:17:39.431537Z",
     "iopub.status.idle": "2023-08-09T14:17:39.439218Z",
     "shell.execute_reply": "2023-08-09T14:17:39.437880Z"
    },
    "papermill": {
     "duration": 0.032639,
     "end_time": "2023-08-09T14:17:39.441906",
     "exception": false,
     "start_time": "2023-08-09T14:17:39.409267",
     "status": "completed"
    },
    "tags": []
   },
   "outputs": [],
   "source": [
    "training_size = int(len(df1)*0.7)\n",
    "test_size = len(df1)-training_size\n",
    "train_data,test_data = df1[0:training_size,:],df1[training_size:len(df1),:1]"
   ]
  },
  {
   "cell_type": "code",
   "execution_count": 20,
   "id": "8643d31a",
   "metadata": {
    "execution": {
     "iopub.execute_input": "2023-08-09T14:17:39.483944Z",
     "iopub.status.busy": "2023-08-09T14:17:39.483494Z",
     "iopub.status.idle": "2023-08-09T14:17:39.490762Z",
     "shell.execute_reply": "2023-08-09T14:17:39.489653Z"
    },
    "papermill": {
     "duration": 0.030959,
     "end_time": "2023-08-09T14:17:39.493188",
     "exception": false,
     "start_time": "2023-08-09T14:17:39.462229",
     "status": "completed"
    },
    "tags": []
   },
   "outputs": [],
   "source": [
    "def create_dataset(dataset, time_step=1):\n",
    "\tdataX, dataY = [], []\n",
    "\tfor i in range(len(dataset)-time_step-1):\n",
    "\t\ta = dataset[i:(i+time_step), 0]   ###i=0, 0,1,2,3-----99   100 \n",
    "\t\tdataX.append(a)\n",
    "\t\tdataY.append(dataset[i + time_step, 0])\n",
    "\treturn np.array(dataX), np.array(dataY)"
   ]
  },
  {
   "cell_type": "code",
   "execution_count": 21,
   "id": "70f9edb5",
   "metadata": {
    "execution": {
     "iopub.execute_input": "2023-08-09T14:17:39.536016Z",
     "iopub.status.busy": "2023-08-09T14:17:39.535329Z",
     "iopub.status.idle": "2023-08-09T14:17:39.541897Z",
     "shell.execute_reply": "2023-08-09T14:17:39.541014Z"
    },
    "papermill": {
     "duration": 0.030301,
     "end_time": "2023-08-09T14:17:39.544197",
     "exception": false,
     "start_time": "2023-08-09T14:17:39.513896",
     "status": "completed"
    },
    "tags": []
   },
   "outputs": [],
   "source": [
    "time_step = 100\n",
    "X_train, y_train = create_dataset(train_data, time_step)\n",
    "X_test, y_test = create_dataset(test_data, time_step)"
   ]
  },
  {
   "cell_type": "code",
   "execution_count": 22,
   "id": "e603edc4",
   "metadata": {
    "execution": {
     "iopub.execute_input": "2023-08-09T14:17:39.586669Z",
     "iopub.status.busy": "2023-08-09T14:17:39.585989Z",
     "iopub.status.idle": "2023-08-09T14:17:39.593904Z",
     "shell.execute_reply": "2023-08-09T14:17:39.592848Z"
    },
    "papermill": {
     "duration": 0.031904,
     "end_time": "2023-08-09T14:17:39.596217",
     "exception": false,
     "start_time": "2023-08-09T14:17:39.564313",
     "status": "completed"
    },
    "tags": []
   },
   "outputs": [
    {
     "name": "stdout",
     "output_type": "stream",
     "text": [
      "(634, 100)\n",
      "(634,)\n"
     ]
    },
    {
     "data": {
      "text/plain": [
       "(None, None)"
      ]
     },
     "execution_count": 22,
     "metadata": {},
     "output_type": "execute_result"
    }
   ],
   "source": [
    "print(X_train.shape), print(y_train.shape)"
   ]
  },
  {
   "cell_type": "code",
   "execution_count": 23,
   "id": "664601cb",
   "metadata": {
    "execution": {
     "iopub.execute_input": "2023-08-09T14:17:39.639399Z",
     "iopub.status.busy": "2023-08-09T14:17:39.638693Z",
     "iopub.status.idle": "2023-08-09T14:17:39.645925Z",
     "shell.execute_reply": "2023-08-09T14:17:39.644988Z"
    },
    "papermill": {
     "duration": 0.031113,
     "end_time": "2023-08-09T14:17:39.648205",
     "exception": false,
     "start_time": "2023-08-09T14:17:39.617092",
     "status": "completed"
    },
    "tags": []
   },
   "outputs": [
    {
     "name": "stdout",
     "output_type": "stream",
     "text": [
      "(214, 100)\n",
      "(214,)\n"
     ]
    },
    {
     "data": {
      "text/plain": [
       "(None, None)"
      ]
     },
     "execution_count": 23,
     "metadata": {},
     "output_type": "execute_result"
    }
   ],
   "source": [
    "print(X_test.shape), print(y_test.shape)"
   ]
  },
  {
   "cell_type": "code",
   "execution_count": 24,
   "id": "f432e774",
   "metadata": {
    "execution": {
     "iopub.execute_input": "2023-08-09T14:17:39.690751Z",
     "iopub.status.busy": "2023-08-09T14:17:39.690099Z",
     "iopub.status.idle": "2023-08-09T14:17:39.694850Z",
     "shell.execute_reply": "2023-08-09T14:17:39.694095Z"
    },
    "papermill": {
     "duration": 0.028658,
     "end_time": "2023-08-09T14:17:39.697073",
     "exception": false,
     "start_time": "2023-08-09T14:17:39.668415",
     "status": "completed"
    },
    "tags": []
   },
   "outputs": [],
   "source": [
    "X_train =X_train.reshape(X_train.shape[0],X_train.shape[1] , 1)\n",
    "X_test = X_test.reshape(X_test.shape[0],X_test.shape[1] , 1)"
   ]
  },
  {
   "cell_type": "markdown",
   "id": "aa581489",
   "metadata": {
    "papermill": {
     "duration": 0.020441,
     "end_time": "2023-08-09T14:17:39.738404",
     "exception": false,
     "start_time": "2023-08-09T14:17:39.717963",
     "status": "completed"
    },
    "tags": []
   },
   "source": [
    "**Building Model 1**"
   ]
  },
  {
   "cell_type": "code",
   "execution_count": 25,
   "id": "e933fb34",
   "metadata": {
    "execution": {
     "iopub.execute_input": "2023-08-09T14:17:39.781771Z",
     "iopub.status.busy": "2023-08-09T14:17:39.781097Z",
     "iopub.status.idle": "2023-08-09T14:17:39.785656Z",
     "shell.execute_reply": "2023-08-09T14:17:39.784847Z"
    },
    "papermill": {
     "duration": 0.029289,
     "end_time": "2023-08-09T14:17:39.788101",
     "exception": false,
     "start_time": "2023-08-09T14:17:39.758812",
     "status": "completed"
    },
    "tags": []
   },
   "outputs": [],
   "source": [
    "from tensorflow.keras.models import Sequential\n",
    "from tensorflow.keras.layers import Dense\n",
    "from tensorflow.keras.layers import LSTM,RNN"
   ]
  },
  {
   "cell_type": "code",
   "execution_count": 26,
   "id": "58ad0b49",
   "metadata": {
    "execution": {
     "iopub.execute_input": "2023-08-09T14:17:39.832986Z",
     "iopub.status.busy": "2023-08-09T14:17:39.832549Z",
     "iopub.status.idle": "2023-08-09T14:17:41.041744Z",
     "shell.execute_reply": "2023-08-09T14:17:41.040503Z"
    },
    "papermill": {
     "duration": 1.235488,
     "end_time": "2023-08-09T14:17:41.044739",
     "exception": false,
     "start_time": "2023-08-09T14:17:39.809251",
     "status": "completed"
    },
    "tags": []
   },
   "outputs": [],
   "source": [
    "model=Sequential()\n",
    "model.add(LSTM(50,return_sequences=True,input_shape=(100,1)))\n",
    "model.add(LSTM(50,return_sequences=True))\n",
    "model.add(LSTM(50))\n",
    "model.add(Dense(1))\n",
    "model.compile(loss='mean_squared_error',optimizer='adam')"
   ]
  },
  {
   "cell_type": "code",
   "execution_count": 27,
   "id": "6fb8418f",
   "metadata": {
    "execution": {
     "iopub.execute_input": "2023-08-09T14:17:41.088041Z",
     "iopub.status.busy": "2023-08-09T14:17:41.087606Z",
     "iopub.status.idle": "2023-08-09T14:17:41.115572Z",
     "shell.execute_reply": "2023-08-09T14:17:41.114035Z"
    },
    "papermill": {
     "duration": 0.052847,
     "end_time": "2023-08-09T14:17:41.118491",
     "exception": false,
     "start_time": "2023-08-09T14:17:41.065644",
     "status": "completed"
    },
    "tags": []
   },
   "outputs": [
    {
     "name": "stdout",
     "output_type": "stream",
     "text": [
      "Model: \"sequential\"\n",
      "_________________________________________________________________\n",
      " Layer (type)                Output Shape              Param #   \n",
      "=================================================================\n",
      " lstm (LSTM)                 (None, 100, 50)           10400     \n",
      "                                                                 \n",
      " lstm_1 (LSTM)               (None, 100, 50)           20200     \n",
      "                                                                 \n",
      " lstm_2 (LSTM)               (None, 50)                20200     \n",
      "                                                                 \n",
      " dense (Dense)               (None, 1)                 51        \n",
      "                                                                 \n",
      "=================================================================\n",
      "Total params: 50,851\n",
      "Trainable params: 50,851\n",
      "Non-trainable params: 0\n",
      "_________________________________________________________________\n"
     ]
    }
   ],
   "source": [
    "model.summary()"
   ]
  },
  {
   "cell_type": "code",
   "execution_count": 28,
   "id": "3fc78d47",
   "metadata": {
    "execution": {
     "iopub.execute_input": "2023-08-09T14:17:41.170465Z",
     "iopub.status.busy": "2023-08-09T14:17:41.170042Z",
     "iopub.status.idle": "2023-08-09T14:21:08.919379Z",
     "shell.execute_reply": "2023-08-09T14:21:08.918145Z"
    },
    "papermill": {
     "duration": 207.779257,
     "end_time": "2023-08-09T14:21:08.922444",
     "exception": false,
     "start_time": "2023-08-09T14:17:41.143187",
     "status": "completed"
    },
    "tags": []
   },
   "outputs": [
    {
     "name": "stdout",
     "output_type": "stream",
     "text": [
      "Epoch 1/100\n",
      "10/10 [==============================] - 10s 371ms/step - loss: 0.0947 - val_loss: 0.0051\n",
      "Epoch 2/100\n",
      "10/10 [==============================] - 2s 185ms/step - loss: 0.0210 - val_loss: 0.0047\n",
      "Epoch 3/100\n",
      "10/10 [==============================] - 2s 189ms/step - loss: 0.0127 - val_loss: 0.0042\n",
      "Epoch 4/100\n",
      "10/10 [==============================] - 2s 184ms/step - loss: 0.0087 - val_loss: 0.0057\n",
      "Epoch 5/100\n",
      "10/10 [==============================] - 2s 206ms/step - loss: 0.0066 - val_loss: 0.0037\n",
      "Epoch 6/100\n",
      "10/10 [==============================] - 2s 198ms/step - loss: 0.0058 - val_loss: 0.0042\n",
      "Epoch 7/100\n",
      "10/10 [==============================] - 2s 192ms/step - loss: 0.0053 - val_loss: 0.0037\n",
      "Epoch 8/100\n",
      "10/10 [==============================] - 2s 197ms/step - loss: 0.0052 - val_loss: 0.0037\n",
      "Epoch 9/100\n",
      "10/10 [==============================] - 2s 191ms/step - loss: 0.0050 - val_loss: 0.0039\n",
      "Epoch 10/100\n",
      "10/10 [==============================] - 2s 192ms/step - loss: 0.0049 - val_loss: 0.0034\n",
      "Epoch 11/100\n",
      "10/10 [==============================] - 2s 192ms/step - loss: 0.0048 - val_loss: 0.0032\n",
      "Epoch 12/100\n",
      "10/10 [==============================] - 2s 202ms/step - loss: 0.0046 - val_loss: 0.0032\n",
      "Epoch 13/100\n",
      "10/10 [==============================] - 2s 204ms/step - loss: 0.0046 - val_loss: 0.0032\n",
      "Epoch 14/100\n",
      "10/10 [==============================] - 2s 200ms/step - loss: 0.0043 - val_loss: 0.0028\n",
      "Epoch 15/100\n",
      "10/10 [==============================] - 2s 196ms/step - loss: 0.0042 - val_loss: 0.0027\n",
      "Epoch 16/100\n",
      "10/10 [==============================] - 2s 191ms/step - loss: 0.0041 - val_loss: 0.0029\n",
      "Epoch 17/100\n",
      "10/10 [==============================] - 2s 193ms/step - loss: 0.0043 - val_loss: 0.0026\n",
      "Epoch 18/100\n",
      "10/10 [==============================] - 2s 194ms/step - loss: 0.0040 - val_loss: 0.0047\n",
      "Epoch 19/100\n",
      "10/10 [==============================] - 2s 191ms/step - loss: 0.0043 - val_loss: 0.0026\n",
      "Epoch 20/100\n",
      "10/10 [==============================] - 2s 189ms/step - loss: 0.0037 - val_loss: 0.0024\n",
      "Epoch 21/100\n",
      "10/10 [==============================] - 2s 190ms/step - loss: 0.0037 - val_loss: 0.0023\n",
      "Epoch 22/100\n",
      "10/10 [==============================] - 2s 207ms/step - loss: 0.0035 - val_loss: 0.0023\n",
      "Epoch 23/100\n",
      "10/10 [==============================] - 2s 189ms/step - loss: 0.0035 - val_loss: 0.0039\n",
      "Epoch 24/100\n",
      "10/10 [==============================] - 2s 192ms/step - loss: 0.0035 - val_loss: 0.0023\n",
      "Epoch 25/100\n",
      "10/10 [==============================] - 2s 183ms/step - loss: 0.0031 - val_loss: 0.0021\n",
      "Epoch 26/100\n",
      "10/10 [==============================] - 2s 182ms/step - loss: 0.0030 - val_loss: 0.0021\n",
      "Epoch 27/100\n",
      "10/10 [==============================] - 2s 183ms/step - loss: 0.0030 - val_loss: 0.0019\n",
      "Epoch 28/100\n",
      "10/10 [==============================] - 2s 184ms/step - loss: 0.0029 - val_loss: 0.0020\n",
      "Epoch 29/100\n",
      "10/10 [==============================] - 2s 196ms/step - loss: 0.0029 - val_loss: 0.0020\n",
      "Epoch 30/100\n",
      "10/10 [==============================] - 2s 196ms/step - loss: 0.0027 - val_loss: 0.0018\n",
      "Epoch 31/100\n",
      "10/10 [==============================] - 2s 191ms/step - loss: 0.0026 - val_loss: 0.0017\n",
      "Epoch 32/100\n",
      "10/10 [==============================] - 2s 192ms/step - loss: 0.0026 - val_loss: 0.0017\n",
      "Epoch 33/100\n",
      "10/10 [==============================] - 2s 195ms/step - loss: 0.0025 - val_loss: 0.0018\n",
      "Epoch 34/100\n",
      "10/10 [==============================] - 2s 181ms/step - loss: 0.0024 - val_loss: 0.0018\n",
      "Epoch 35/100\n",
      "10/10 [==============================] - 2s 183ms/step - loss: 0.0027 - val_loss: 0.0016\n",
      "Epoch 36/100\n",
      "10/10 [==============================] - 2s 178ms/step - loss: 0.0024 - val_loss: 0.0019\n",
      "Epoch 37/100\n",
      "10/10 [==============================] - 2s 180ms/step - loss: 0.0024 - val_loss: 0.0015\n",
      "Epoch 38/100\n",
      "10/10 [==============================] - 2s 186ms/step - loss: 0.0021 - val_loss: 0.0017\n",
      "Epoch 39/100\n",
      "10/10 [==============================] - 2s 214ms/step - loss: 0.0022 - val_loss: 0.0015\n",
      "Epoch 40/100\n",
      "10/10 [==============================] - 2s 186ms/step - loss: 0.0021 - val_loss: 0.0015\n",
      "Epoch 41/100\n",
      "10/10 [==============================] - 2s 179ms/step - loss: 0.0020 - val_loss: 0.0015\n",
      "Epoch 42/100\n",
      "10/10 [==============================] - 2s 191ms/step - loss: 0.0025 - val_loss: 0.0016\n",
      "Epoch 43/100\n",
      "10/10 [==============================] - 2s 188ms/step - loss: 0.0023 - val_loss: 0.0014\n",
      "Epoch 44/100\n",
      "10/10 [==============================] - 2s 193ms/step - loss: 0.0019 - val_loss: 0.0014\n",
      "Epoch 45/100\n",
      "10/10 [==============================] - 2s 190ms/step - loss: 0.0019 - val_loss: 0.0014\n",
      "Epoch 46/100\n",
      "10/10 [==============================] - 2s 190ms/step - loss: 0.0019 - val_loss: 0.0014\n",
      "Epoch 47/100\n",
      "10/10 [==============================] - 2s 200ms/step - loss: 0.0018 - val_loss: 0.0014\n",
      "Epoch 48/100\n",
      "10/10 [==============================] - 2s 201ms/step - loss: 0.0018 - val_loss: 0.0013\n",
      "Epoch 49/100\n",
      "10/10 [==============================] - 2s 197ms/step - loss: 0.0017 - val_loss: 0.0013\n",
      "Epoch 50/100\n",
      "10/10 [==============================] - 2s 191ms/step - loss: 0.0018 - val_loss: 0.0014\n",
      "Epoch 51/100\n",
      "10/10 [==============================] - 2s 187ms/step - loss: 0.0018 - val_loss: 0.0013\n",
      "Epoch 52/100\n",
      "10/10 [==============================] - 2s 187ms/step - loss: 0.0018 - val_loss: 0.0015\n",
      "Epoch 53/100\n",
      "10/10 [==============================] - 2s 181ms/step - loss: 0.0017 - val_loss: 0.0013\n",
      "Epoch 54/100\n",
      "10/10 [==============================] - 2s 188ms/step - loss: 0.0017 - val_loss: 0.0013\n",
      "Epoch 55/100\n",
      "10/10 [==============================] - 2s 189ms/step - loss: 0.0016 - val_loss: 0.0014\n",
      "Epoch 56/100\n",
      "10/10 [==============================] - 2s 198ms/step - loss: 0.0017 - val_loss: 0.0016\n",
      "Epoch 57/100\n",
      "10/10 [==============================] - 2s 181ms/step - loss: 0.0017 - val_loss: 0.0012\n",
      "Epoch 58/100\n",
      "10/10 [==============================] - 2s 183ms/step - loss: 0.0016 - val_loss: 0.0012\n",
      "Epoch 59/100\n",
      "10/10 [==============================] - 2s 182ms/step - loss: 0.0017 - val_loss: 0.0012\n",
      "Epoch 60/100\n",
      "10/10 [==============================] - 2s 191ms/step - loss: 0.0020 - val_loss: 0.0013\n",
      "Epoch 61/100\n",
      "10/10 [==============================] - 2s 194ms/step - loss: 0.0017 - val_loss: 0.0018\n",
      "Epoch 62/100\n",
      "10/10 [==============================] - 2s 191ms/step - loss: 0.0018 - val_loss: 0.0014\n",
      "Epoch 63/100\n",
      "10/10 [==============================] - 2s 189ms/step - loss: 0.0015 - val_loss: 0.0012\n",
      "Epoch 64/100\n",
      "10/10 [==============================] - 2s 186ms/step - loss: 0.0014 - val_loss: 0.0011\n",
      "Epoch 65/100\n",
      "10/10 [==============================] - 2s 193ms/step - loss: 0.0014 - val_loss: 0.0012\n",
      "Epoch 66/100\n",
      "10/10 [==============================] - 2s 186ms/step - loss: 0.0015 - val_loss: 0.0011\n",
      "Epoch 67/100\n",
      "10/10 [==============================] - 2s 186ms/step - loss: 0.0014 - val_loss: 0.0011\n",
      "Epoch 68/100\n",
      "10/10 [==============================] - 2s 187ms/step - loss: 0.0014 - val_loss: 0.0013\n",
      "Epoch 69/100\n",
      "10/10 [==============================] - 2s 190ms/step - loss: 0.0014 - val_loss: 0.0015\n",
      "Epoch 70/100\n",
      "10/10 [==============================] - 2s 213ms/step - loss: 0.0015 - val_loss: 0.0012\n",
      "Epoch 71/100\n",
      "10/10 [==============================] - 2s 218ms/step - loss: 0.0013 - val_loss: 0.0010\n",
      "Epoch 72/100\n",
      "10/10 [==============================] - 2s 225ms/step - loss: 0.0013 - val_loss: 0.0011\n",
      "Epoch 73/100\n",
      "10/10 [==============================] - 2s 198ms/step - loss: 0.0013 - val_loss: 0.0012\n",
      "Epoch 74/100\n",
      "10/10 [==============================] - 2s 192ms/step - loss: 0.0014 - val_loss: 0.0012\n",
      "Epoch 75/100\n",
      "10/10 [==============================] - 2s 192ms/step - loss: 0.0013 - val_loss: 0.0013\n",
      "Epoch 76/100\n",
      "10/10 [==============================] - 2s 190ms/step - loss: 0.0013 - val_loss: 0.0010\n",
      "Epoch 77/100\n",
      "10/10 [==============================] - 2s 186ms/step - loss: 0.0011 - val_loss: 9.8872e-04\n",
      "Epoch 78/100\n",
      "10/10 [==============================] - 2s 188ms/step - loss: 0.0013 - val_loss: 0.0010\n",
      "Epoch 79/100\n",
      "10/10 [==============================] - 2s 186ms/step - loss: 0.0012 - val_loss: 0.0010\n",
      "Epoch 80/100\n",
      "10/10 [==============================] - 2s 185ms/step - loss: 0.0011 - val_loss: 0.0010\n",
      "Epoch 81/100\n",
      "10/10 [==============================] - 2s 192ms/step - loss: 0.0011 - val_loss: 0.0010\n",
      "Epoch 82/100\n",
      "10/10 [==============================] - 2s 191ms/step - loss: 0.0012 - val_loss: 0.0011\n",
      "Epoch 83/100\n",
      "10/10 [==============================] - 2s 193ms/step - loss: 0.0011 - val_loss: 0.0012\n",
      "Epoch 84/100\n",
      "10/10 [==============================] - 2s 198ms/step - loss: 0.0011 - val_loss: 0.0021\n",
      "Epoch 85/100\n",
      "10/10 [==============================] - 2s 189ms/step - loss: 0.0014 - val_loss: 0.0013\n",
      "Epoch 86/100\n",
      "10/10 [==============================] - 2s 198ms/step - loss: 0.0012 - val_loss: 0.0013\n",
      "Epoch 87/100\n",
      "10/10 [==============================] - 2s 196ms/step - loss: 0.0011 - val_loss: 0.0012\n",
      "Epoch 88/100\n",
      "10/10 [==============================] - 2s 204ms/step - loss: 0.0011 - val_loss: 0.0014\n",
      "Epoch 89/100\n",
      "10/10 [==============================] - 2s 213ms/step - loss: 0.0011 - val_loss: 8.9533e-04\n",
      "Epoch 90/100\n",
      "10/10 [==============================] - 2s 197ms/step - loss: 9.6287e-04 - val_loss: 0.0011\n",
      "Epoch 91/100\n",
      "10/10 [==============================] - 2s 197ms/step - loss: 9.8969e-04 - val_loss: 8.8221e-04\n",
      "Epoch 92/100\n",
      "10/10 [==============================] - 2s 186ms/step - loss: 9.4495e-04 - val_loss: 8.8844e-04\n",
      "Epoch 93/100\n",
      "10/10 [==============================] - 2s 182ms/step - loss: 9.0184e-04 - val_loss: 8.5986e-04\n",
      "Epoch 94/100\n",
      "10/10 [==============================] - 2s 186ms/step - loss: 8.9803e-04 - val_loss: 0.0011\n",
      "Epoch 95/100\n",
      "10/10 [==============================] - 2s 183ms/step - loss: 8.7699e-04 - val_loss: 9.0120e-04\n",
      "Epoch 96/100\n",
      "10/10 [==============================] - 2s 191ms/step - loss: 8.7035e-04 - val_loss: 8.4978e-04\n",
      "Epoch 97/100\n",
      "10/10 [==============================] - 2s 186ms/step - loss: 8.8179e-04 - val_loss: 9.2741e-04\n",
      "Epoch 98/100\n",
      "10/10 [==============================] - 2s 189ms/step - loss: 8.3156e-04 - val_loss: 8.1223e-04\n",
      "Epoch 99/100\n",
      "10/10 [==============================] - 2s 190ms/step - loss: 8.7455e-04 - val_loss: 0.0011\n",
      "Epoch 100/100\n",
      "10/10 [==============================] - 2s 192ms/step - loss: 9.6103e-04 - val_loss: 0.0011\n"
     ]
    },
    {
     "data": {
      "text/plain": [
       "<keras.callbacks.History at 0x7c20b4541d20>"
      ]
     },
     "execution_count": 28,
     "metadata": {},
     "output_type": "execute_result"
    }
   ],
   "source": [
    "model.fit(X_train,y_train,validation_data=(X_test,y_test),epochs=100,batch_size=64,verbose=1)"
   ]
  },
  {
   "cell_type": "code",
   "execution_count": 29,
   "id": "8adf27bf",
   "metadata": {
    "execution": {
     "iopub.execute_input": "2023-08-09T14:21:09.200179Z",
     "iopub.status.busy": "2023-08-09T14:21:09.199711Z",
     "iopub.status.idle": "2023-08-09T14:21:12.454609Z",
     "shell.execute_reply": "2023-08-09T14:21:12.453668Z"
    },
    "papermill": {
     "duration": 3.392261,
     "end_time": "2023-08-09T14:21:12.457177",
     "exception": false,
     "start_time": "2023-08-09T14:21:09.064916",
     "status": "completed"
    },
    "tags": []
   },
   "outputs": [
    {
     "name": "stdout",
     "output_type": "stream",
     "text": [
      "20/20 [==============================] - 3s 46ms/step\n",
      "7/7 [==============================] - 0s 46ms/step\n"
     ]
    }
   ],
   "source": [
    "train_predict=model.predict(X_train)\n",
    "test_predict=model.predict(X_test)"
   ]
  },
  {
   "cell_type": "code",
   "execution_count": 30,
   "id": "b0fefdaf",
   "metadata": {
    "execution": {
     "iopub.execute_input": "2023-08-09T14:21:12.735440Z",
     "iopub.status.busy": "2023-08-09T14:21:12.733808Z",
     "iopub.status.idle": "2023-08-09T14:21:12.740810Z",
     "shell.execute_reply": "2023-08-09T14:21:12.739755Z"
    },
    "papermill": {
     "duration": 0.149834,
     "end_time": "2023-08-09T14:21:12.743208",
     "exception": false,
     "start_time": "2023-08-09T14:21:12.593374",
     "status": "completed"
    },
    "tags": []
   },
   "outputs": [],
   "source": [
    "train_predict=scaler.inverse_transform(train_predict)\n",
    "test_predict=scaler.inverse_transform(test_predict)"
   ]
  },
  {
   "cell_type": "markdown",
   "id": "6327f457",
   "metadata": {
    "papermill": {
     "duration": 0.136607,
     "end_time": "2023-08-09T14:21:13.012530",
     "exception": false,
     "start_time": "2023-08-09T14:21:12.875923",
     "status": "completed"
    },
    "tags": []
   },
   "source": [
    "**Evaluating Model**"
   ]
  },
  {
   "cell_type": "code",
   "execution_count": 31,
   "id": "406edb58",
   "metadata": {
    "execution": {
     "iopub.execute_input": "2023-08-09T14:21:13.287037Z",
     "iopub.status.busy": "2023-08-09T14:21:13.285863Z",
     "iopub.status.idle": "2023-08-09T14:21:13.294513Z",
     "shell.execute_reply": "2023-08-09T14:21:13.293414Z"
    },
    "papermill": {
     "duration": 0.146679,
     "end_time": "2023-08-09T14:21:13.296727",
     "exception": false,
     "start_time": "2023-08-09T14:21:13.150048",
     "status": "completed"
    },
    "tags": []
   },
   "outputs": [
    {
     "data": {
      "text/plain": [
       "40.18932238049584"
      ]
     },
     "execution_count": 31,
     "metadata": {},
     "output_type": "execute_result"
    }
   ],
   "source": [
    "import math\n",
    "from sklearn.metrics import mean_squared_error\n",
    "math.sqrt(mean_squared_error(y_train,train_predict))"
   ]
  },
  {
   "cell_type": "code",
   "execution_count": 32,
   "id": "092d2ada",
   "metadata": {
    "execution": {
     "iopub.execute_input": "2023-08-09T14:21:13.563360Z",
     "iopub.status.busy": "2023-08-09T14:21:13.562349Z",
     "iopub.status.idle": "2023-08-09T14:21:13.570683Z",
     "shell.execute_reply": "2023-08-09T14:21:13.569702Z"
    },
    "papermill": {
     "duration": 0.143345,
     "end_time": "2023-08-09T14:21:13.572994",
     "exception": false,
     "start_time": "2023-08-09T14:21:13.429649",
     "status": "completed"
    },
    "tags": []
   },
   "outputs": [
    {
     "data": {
      "text/plain": [
       "40.73160803888072"
      ]
     },
     "execution_count": 32,
     "metadata": {},
     "output_type": "execute_result"
    }
   ],
   "source": [
    "math.sqrt(mean_squared_error(y_test,test_predict))"
   ]
  },
  {
   "cell_type": "code",
   "execution_count": 33,
   "id": "60d654d4",
   "metadata": {
    "execution": {
     "iopub.execute_input": "2023-08-09T14:21:13.843958Z",
     "iopub.status.busy": "2023-08-09T14:21:13.842989Z",
     "iopub.status.idle": "2023-08-09T14:21:14.226551Z",
     "shell.execute_reply": "2023-08-09T14:21:14.225022Z"
    },
    "papermill": {
     "duration": 0.522508,
     "end_time": "2023-08-09T14:21:14.229410",
     "exception": false,
     "start_time": "2023-08-09T14:21:13.706902",
     "status": "completed"
    },
    "tags": []
   },
   "outputs": [
    {
     "data": {
      "image/png": "[encoded data removed]",
      "text/plain": [
       "<Figure size 1000x600 with 1 Axes>"
      ]
     },
     "metadata": {},
     "output_type": "display_data"
    }
   ],
   "source": [
    "look_back=100\n",
    "trainPredictPlot = np.empty_like(df1)\n",
    "trainPredictPlot[:, :] = np.nan\n",
    "trainPredictPlot[look_back:len(train_predict)+look_back, :] = train_predict\n",
    "\n",
    "testPredictPlot = np.empty_like(df1)\n",
    "testPredictPlot[:, :] = np.nan\n",
    "testPredictPlot[len(train_predict)+(look_back*2)+1:len(df1)-1, :] = test_predict\n",
    "\n",
    "plt.style.use('dark_background')\n",
    "\n",
    "plt.figure(figsize=(10, 6))  # Adjust the figure size as needed\n",
    "\n",
    "plt.plot(scaler.inverse_transform(df1), color='red', label='Actual')\n",
    "plt.plot(trainPredictPlot, color='lime', label='Train Predictions')\n",
    "plt.plot(testPredictPlot, color='blue', label='Test Predictions')\n",
    "\n",
    "plt.xlabel('Time')\n",
    "plt.ylabel('Stock Price')\n",
    "plt.title('UBER Stock Market Prediction Using LSTM')\n",
    "plt.legend()\n",
    "plt.show()\n"
   ]
  },
  {
   "cell_type": "markdown",
   "id": "5bb77918",
   "metadata": {
    "papermill": {
     "duration": 0.136189,
     "end_time": "2023-08-09T14:21:14.501375",
     "exception": false,
     "start_time": "2023-08-09T14:21:14.365186",
     "status": "completed"
    },
    "tags": []
   },
   "source": [
    "**Building Model 2**"
   ]
  },
  {
   "cell_type": "code",
   "execution_count": 34,
   "id": "2c1d8161",
   "metadata": {
    "execution": {
     "iopub.execute_input": "2023-08-09T14:21:14.780856Z",
     "iopub.status.busy": "2023-08-09T14:21:14.779961Z",
     "iopub.status.idle": "2023-08-09T14:21:14.960626Z",
     "shell.execute_reply": "2023-08-09T14:21:14.959267Z"
    },
    "papermill": {
     "duration": 0.321174,
     "end_time": "2023-08-09T14:21:14.963768",
     "exception": false,
     "start_time": "2023-08-09T14:21:14.642594",
     "status": "completed"
    },
    "tags": []
   },
   "outputs": [],
   "source": [
    "from tensorflow.keras.layers import LSTM,SimpleRNN\n",
    "model=Sequential()\n",
    "model.add(SimpleRNN(50,return_sequences=True,input_shape=(100,1)))\n",
    "model.add(SimpleRNN(50))\n",
    "model.add(Dense(1))\n",
    "model.compile(loss='mean_squared_error',optimizer='adam')"
   ]
  },
  {
   "cell_type": "code",
   "execution_count": 35,
   "id": "344ef22c",
   "metadata": {
    "execution": {
     "iopub.execute_input": "2023-08-09T14:21:15.243104Z",
     "iopub.status.busy": "2023-08-09T14:21:15.242678Z",
     "iopub.status.idle": "2023-08-09T14:21:15.266864Z",
     "shell.execute_reply": "2023-08-09T14:21:15.265051Z"
    },
    "papermill": {
     "duration": 0.170993,
     "end_time": "2023-08-09T14:21:15.271560",
     "exception": false,
     "start_time": "2023-08-09T14:21:15.100567",
     "status": "completed"
    },
    "tags": []
   },
   "outputs": [
    {
     "name": "stdout",
     "output_type": "stream",
     "text": [
      "Model: \"sequential_1\"\n",
      "_________________________________________________________________\n",
      " Layer (type)                Output Shape              Param #   \n",
      "=================================================================\n",
      " simple_rnn (SimpleRNN)      (None, 100, 50)           2600      \n",
      "                                                                 \n",
      " simple_rnn_1 (SimpleRNN)    (None, 50)                5050      \n",
      "                                                                 \n",
      " dense_1 (Dense)             (None, 1)                 51        \n",
      "                                                                 \n",
      "=================================================================\n",
      "Total params: 7,701\n",
      "Trainable params: 7,701\n",
      "Non-trainable params: 0\n",
      "_________________________________________________________________\n"
     ]
    }
   ],
   "source": [
    "model.summary()"
   ]
  },
  {
   "cell_type": "code",
   "execution_count": 36,
   "id": "ff7efdcd",
   "metadata": {
    "execution": {
     "iopub.execute_input": "2023-08-09T14:21:15.554085Z",
     "iopub.status.busy": "2023-08-09T14:21:15.553653Z",
     "iopub.status.idle": "2023-08-09T14:22:10.584587Z",
     "shell.execute_reply": "2023-08-09T14:22:10.583650Z"
    },
    "papermill": {
     "duration": 55.174896,
     "end_time": "2023-08-09T14:22:10.587418",
     "exception": false,
     "start_time": "2023-08-09T14:21:15.412522",
     "status": "completed"
    },
    "tags": []
   },
   "outputs": [
    {
     "name": "stdout",
     "output_type": "stream",
     "text": [
      "Epoch 1/100\n",
      "10/10 [==============================] - 3s 91ms/step - loss: 0.1006 - val_loss: 0.0305\n",
      "Epoch 2/100\n",
      "10/10 [==============================] - 1s 54ms/step - loss: 0.0182 - val_loss: 0.0098\n",
      "Epoch 3/100\n",
      "10/10 [==============================] - 1s 53ms/step - loss: 0.0064 - val_loss: 0.0019\n",
      "Epoch 4/100\n",
      "10/10 [==============================] - 1s 53ms/step - loss: 0.0035 - val_loss: 0.0015\n",
      "Epoch 5/100\n",
      "10/10 [==============================] - 1s 52ms/step - loss: 0.0022 - val_loss: 0.0014\n",
      "Epoch 6/100\n",
      "10/10 [==============================] - 1s 56ms/step - loss: 0.0018 - val_loss: 0.0013\n",
      "Epoch 7/100\n",
      "10/10 [==============================] - 1s 51ms/step - loss: 0.0015 - val_loss: 0.0012\n",
      "Epoch 8/100\n",
      "10/10 [==============================] - 1s 53ms/step - loss: 0.0013 - val_loss: 9.5507e-04\n",
      "Epoch 9/100\n",
      "10/10 [==============================] - 1s 51ms/step - loss: 0.0012 - val_loss: 0.0011\n",
      "Epoch 10/100\n",
      "10/10 [==============================] - 1s 52ms/step - loss: 0.0012 - val_loss: 0.0011\n",
      "Epoch 11/100\n",
      "10/10 [==============================] - 1s 51ms/step - loss: 0.0012 - val_loss: 0.0010\n",
      "Epoch 12/100\n",
      "10/10 [==============================] - 1s 54ms/step - loss: 0.0011 - val_loss: 8.6676e-04\n",
      "Epoch 13/100\n",
      "10/10 [==============================] - 1s 53ms/step - loss: 0.0011 - val_loss: 8.6403e-04\n",
      "Epoch 14/100\n",
      "10/10 [==============================] - 1s 53ms/step - loss: 9.9180e-04 - val_loss: 8.5773e-04\n",
      "Epoch 15/100\n",
      "10/10 [==============================] - 1s 54ms/step - loss: 9.8685e-04 - val_loss: 9.0722e-04\n",
      "Epoch 16/100\n",
      "10/10 [==============================] - 1s 52ms/step - loss: 0.0010 - val_loss: 9.5221e-04\n",
      "Epoch 17/100\n",
      "10/10 [==============================] - 1s 51ms/step - loss: 9.6935e-04 - val_loss: 8.5313e-04\n",
      "Epoch 18/100\n",
      "10/10 [==============================] - 1s 53ms/step - loss: 9.0847e-04 - val_loss: 8.0977e-04\n",
      "Epoch 19/100\n",
      "10/10 [==============================] - 1s 52ms/step - loss: 9.0302e-04 - val_loss: 8.6136e-04\n",
      "Epoch 20/100\n",
      "10/10 [==============================] - 1s 54ms/step - loss: 8.5888e-04 - val_loss: 7.9433e-04\n",
      "Epoch 21/100\n",
      "10/10 [==============================] - 1s 51ms/step - loss: 8.2975e-04 - val_loss: 7.9713e-04\n",
      "Epoch 22/100\n",
      "10/10 [==============================] - 1s 61ms/step - loss: 8.6250e-04 - val_loss: 7.7724e-04\n",
      "Epoch 23/100\n",
      "10/10 [==============================] - 1s 53ms/step - loss: 9.6938e-04 - val_loss: 7.7029e-04\n",
      "Epoch 24/100\n",
      "10/10 [==============================] - 1s 53ms/step - loss: 8.4820e-04 - val_loss: 7.7462e-04\n",
      "Epoch 25/100\n",
      "10/10 [==============================] - 1s 57ms/step - loss: 7.9080e-04 - val_loss: 7.8127e-04\n",
      "Epoch 26/100\n",
      "10/10 [==============================] - 1s 53ms/step - loss: 8.8673e-04 - val_loss: 7.8161e-04\n",
      "Epoch 27/100\n",
      "10/10 [==============================] - 1s 61ms/step - loss: 9.0327e-04 - val_loss: 0.0010\n",
      "Epoch 28/100\n",
      "10/10 [==============================] - 1s 52ms/step - loss: 8.7001e-04 - val_loss: 7.8997e-04\n",
      "Epoch 29/100\n",
      "10/10 [==============================] - 1s 52ms/step - loss: 7.5224e-04 - val_loss: 7.6850e-04\n",
      "Epoch 30/100\n",
      "10/10 [==============================] - 1s 52ms/step - loss: 7.4996e-04 - val_loss: 7.0494e-04\n",
      "Epoch 31/100\n",
      "10/10 [==============================] - 1s 53ms/step - loss: 7.1489e-04 - val_loss: 7.0859e-04\n",
      "Epoch 32/100\n",
      "10/10 [==============================] - 1s 52ms/step - loss: 7.0874e-04 - val_loss: 6.9716e-04\n",
      "Epoch 33/100\n",
      "10/10 [==============================] - 1s 53ms/step - loss: 7.3032e-04 - val_loss: 7.2957e-04\n",
      "Epoch 34/100\n",
      "10/10 [==============================] - 1s 52ms/step - loss: 7.1045e-04 - val_loss: 6.8442e-04\n",
      "Epoch 35/100\n",
      "10/10 [==============================] - 1s 52ms/step - loss: 7.0278e-04 - val_loss: 7.8608e-04\n",
      "Epoch 36/100\n",
      "10/10 [==============================] - 1s 53ms/step - loss: 7.3098e-04 - val_loss: 8.6419e-04\n",
      "Epoch 37/100\n",
      "10/10 [==============================] - 1s 53ms/step - loss: 7.8581e-04 - val_loss: 6.9453e-04\n",
      "Epoch 38/100\n",
      "10/10 [==============================] - 1s 54ms/step - loss: 6.6728e-04 - val_loss: 6.6231e-04\n",
      "Epoch 39/100\n",
      "10/10 [==============================] - 1s 55ms/step - loss: 6.4659e-04 - val_loss: 7.1981e-04\n",
      "Epoch 40/100\n",
      "10/10 [==============================] - 1s 53ms/step - loss: 7.4004e-04 - val_loss: 6.6157e-04\n",
      "Epoch 41/100\n",
      "10/10 [==============================] - 1s 65ms/step - loss: 6.8984e-04 - val_loss: 6.9383e-04\n",
      "Epoch 42/100\n",
      "10/10 [==============================] - 1s 62ms/step - loss: 7.3069e-04 - val_loss: 7.7202e-04\n",
      "Epoch 43/100\n",
      "10/10 [==============================] - 1s 59ms/step - loss: 7.0438e-04 - val_loss: 9.0412e-04\n",
      "Epoch 44/100\n",
      "10/10 [==============================] - 1s 55ms/step - loss: 6.5924e-04 - val_loss: 6.4083e-04\n",
      "Epoch 45/100\n",
      "10/10 [==============================] - 1s 52ms/step - loss: 6.3164e-04 - val_loss: 8.1715e-04\n",
      "Epoch 46/100\n",
      "10/10 [==============================] - 1s 52ms/step - loss: 6.5323e-04 - val_loss: 6.5282e-04\n",
      "Epoch 47/100\n",
      "10/10 [==============================] - 1s 51ms/step - loss: 6.4170e-04 - val_loss: 8.4410e-04\n",
      "Epoch 48/100\n",
      "10/10 [==============================] - 1s 53ms/step - loss: 7.6343e-04 - val_loss: 7.7047e-04\n",
      "Epoch 49/100\n",
      "10/10 [==============================] - 1s 51ms/step - loss: 6.7495e-04 - val_loss: 6.6599e-04\n",
      "Epoch 50/100\n",
      "10/10 [==============================] - 1s 53ms/step - loss: 6.7912e-04 - val_loss: 6.5875e-04\n",
      "Epoch 51/100\n",
      "10/10 [==============================] - 1s 53ms/step - loss: 6.1974e-04 - val_loss: 6.7600e-04\n",
      "Epoch 52/100\n",
      "10/10 [==============================] - 1s 53ms/step - loss: 6.9244e-04 - val_loss: 6.5998e-04\n",
      "Epoch 53/100\n",
      "10/10 [==============================] - 1s 56ms/step - loss: 6.3216e-04 - val_loss: 6.1229e-04\n",
      "Epoch 54/100\n",
      "10/10 [==============================] - 1s 54ms/step - loss: 5.9864e-04 - val_loss: 6.7411e-04\n",
      "Epoch 55/100\n",
      "10/10 [==============================] - 0s 51ms/step - loss: 6.4756e-04 - val_loss: 7.0353e-04\n",
      "Epoch 56/100\n",
      "10/10 [==============================] - 1s 53ms/step - loss: 6.7428e-04 - val_loss: 7.7274e-04\n",
      "Epoch 57/100\n",
      "10/10 [==============================] - 1s 53ms/step - loss: 6.5261e-04 - val_loss: 6.0605e-04\n",
      "Epoch 58/100\n",
      "10/10 [==============================] - 1s 53ms/step - loss: 6.0742e-04 - val_loss: 6.6803e-04\n",
      "Epoch 59/100\n",
      "10/10 [==============================] - 1s 51ms/step - loss: 6.9803e-04 - val_loss: 5.8735e-04\n",
      "Epoch 60/100\n",
      "10/10 [==============================] - 1s 52ms/step - loss: 6.5514e-04 - val_loss: 7.1105e-04\n",
      "Epoch 61/100\n",
      "10/10 [==============================] - 1s 52ms/step - loss: 5.8583e-04 - val_loss: 7.9282e-04\n",
      "Epoch 62/100\n",
      "10/10 [==============================] - 1s 52ms/step - loss: 6.5841e-04 - val_loss: 5.9754e-04\n",
      "Epoch 63/100\n",
      "10/10 [==============================] - 1s 56ms/step - loss: 7.0920e-04 - val_loss: 7.2595e-04\n",
      "Epoch 64/100\n",
      "10/10 [==============================] - 1s 52ms/step - loss: 5.8196e-04 - val_loss: 6.0947e-04\n",
      "Epoch 65/100\n",
      "10/10 [==============================] - 1s 52ms/step - loss: 5.9421e-04 - val_loss: 6.0020e-04\n",
      "Epoch 66/100\n",
      "10/10 [==============================] - 1s 51ms/step - loss: 5.8232e-04 - val_loss: 6.3146e-04\n",
      "Epoch 67/100\n",
      "10/10 [==============================] - 1s 52ms/step - loss: 7.9749e-04 - val_loss: 5.9481e-04\n",
      "Epoch 68/100\n",
      "10/10 [==============================] - 0s 51ms/step - loss: 7.0966e-04 - val_loss: 6.0968e-04\n",
      "Epoch 69/100\n",
      "10/10 [==============================] - 1s 53ms/step - loss: 6.2424e-04 - val_loss: 6.6358e-04\n",
      "Epoch 70/100\n",
      "10/10 [==============================] - 1s 52ms/step - loss: 5.6000e-04 - val_loss: 5.9880e-04\n",
      "Epoch 71/100\n",
      "10/10 [==============================] - 1s 53ms/step - loss: 5.5894e-04 - val_loss: 5.9904e-04\n",
      "Epoch 72/100\n",
      "10/10 [==============================] - 1s 53ms/step - loss: 5.6310e-04 - val_loss: 6.6095e-04\n",
      "Epoch 73/100\n",
      "10/10 [==============================] - 1s 53ms/step - loss: 5.4181e-04 - val_loss: 5.8335e-04\n",
      "Epoch 74/100\n",
      "10/10 [==============================] - 1s 51ms/step - loss: 5.6419e-04 - val_loss: 6.8548e-04\n",
      "Epoch 75/100\n",
      "10/10 [==============================] - 1s 52ms/step - loss: 6.2501e-04 - val_loss: 8.7839e-04\n",
      "Epoch 76/100\n",
      "10/10 [==============================] - 1s 53ms/step - loss: 6.3581e-04 - val_loss: 5.7334e-04\n",
      "Epoch 77/100\n",
      "10/10 [==============================] - 1s 52ms/step - loss: 6.1692e-04 - val_loss: 5.9716e-04\n",
      "Epoch 78/100\n",
      "10/10 [==============================] - 0s 50ms/step - loss: 6.2016e-04 - val_loss: 6.2078e-04\n",
      "Epoch 79/100\n",
      "10/10 [==============================] - 1s 51ms/step - loss: 7.2127e-04 - val_loss: 5.7719e-04\n",
      "Epoch 80/100\n",
      "10/10 [==============================] - 1s 52ms/step - loss: 5.6758e-04 - val_loss: 6.4462e-04\n",
      "Epoch 81/100\n",
      "10/10 [==============================] - 1s 53ms/step - loss: 5.4228e-04 - val_loss: 5.8169e-04\n",
      "Epoch 82/100\n",
      "10/10 [==============================] - 1s 57ms/step - loss: 5.9217e-04 - val_loss: 7.4978e-04\n",
      "Epoch 83/100\n",
      "10/10 [==============================] - 1s 52ms/step - loss: 6.3352e-04 - val_loss: 6.3791e-04\n",
      "Epoch 84/100\n",
      "10/10 [==============================] - 1s 54ms/step - loss: 6.2947e-04 - val_loss: 0.0010\n",
      "Epoch 85/100\n",
      "10/10 [==============================] - 1s 52ms/step - loss: 7.1084e-04 - val_loss: 6.7350e-04\n",
      "Epoch 86/100\n",
      "10/10 [==============================] - 1s 57ms/step - loss: 5.7212e-04 - val_loss: 6.2592e-04\n",
      "Epoch 87/100\n",
      "10/10 [==============================] - 1s 57ms/step - loss: 6.0988e-04 - val_loss: 6.2797e-04\n",
      "Epoch 88/100\n",
      "10/10 [==============================] - 1s 53ms/step - loss: 5.7244e-04 - val_loss: 8.0220e-04\n",
      "Epoch 89/100\n",
      "10/10 [==============================] - 1s 52ms/step - loss: 5.6383e-04 - val_loss: 5.8317e-04\n",
      "Epoch 90/100\n",
      "10/10 [==============================] - 1s 54ms/step - loss: 5.3451e-04 - val_loss: 5.9413e-04\n",
      "Epoch 91/100\n",
      "10/10 [==============================] - 1s 53ms/step - loss: 5.5905e-04 - val_loss: 6.2446e-04\n",
      "Epoch 92/100\n",
      "10/10 [==============================] - 1s 54ms/step - loss: 5.4922e-04 - val_loss: 5.7458e-04\n",
      "Epoch 93/100\n",
      "10/10 [==============================] - 1s 53ms/step - loss: 5.4253e-04 - val_loss: 6.4923e-04\n",
      "Epoch 94/100\n",
      "10/10 [==============================] - 1s 53ms/step - loss: 5.4523e-04 - val_loss: 5.6253e-04\n",
      "Epoch 95/100\n",
      "10/10 [==============================] - 1s 53ms/step - loss: 5.7704e-04 - val_loss: 5.6551e-04\n",
      "Epoch 96/100\n",
      "10/10 [==============================] - 1s 53ms/step - loss: 6.4333e-04 - val_loss: 5.7249e-04\n",
      "Epoch 97/100\n",
      "10/10 [==============================] - 1s 51ms/step - loss: 5.6100e-04 - val_loss: 7.6121e-04\n",
      "Epoch 98/100\n",
      "10/10 [==============================] - 1s 52ms/step - loss: 6.1407e-04 - val_loss: 6.6671e-04\n",
      "Epoch 99/100\n",
      "10/10 [==============================] - 1s 52ms/step - loss: 5.9831e-04 - val_loss: 8.8937e-04\n",
      "Epoch 100/100\n",
      "10/10 [==============================] - 1s 53ms/step - loss: 6.3236e-04 - val_loss: 5.8377e-04\n"
     ]
    },
    {
     "data": {
      "text/plain": [
       "<keras.callbacks.History at 0x7c20b5e8dd80>"
      ]
     },
     "execution_count": 36,
     "metadata": {},
     "output_type": "execute_result"
    }
   ],
   "source": [
    "model.fit(X_train,y_train,validation_data=(X_test,y_test),epochs=100,batch_size=64,verbose=1)"
   ]
  },
  {
   "cell_type": "code",
   "execution_count": 37,
   "id": "4775a3b4",
   "metadata": {
    "execution": {
     "iopub.execute_input": "2023-08-09T14:22:11.052106Z",
     "iopub.status.busy": "2023-08-09T14:22:11.051262Z",
     "iopub.status.idle": "2023-08-09T14:22:11.893756Z",
     "shell.execute_reply": "2023-08-09T14:22:11.892806Z"
    },
    "papermill": {
     "duration": 1.097498,
     "end_time": "2023-08-09T14:22:11.896690",
     "exception": false,
     "start_time": "2023-08-09T14:22:10.799192",
     "status": "completed"
    },
    "tags": []
   },
   "outputs": [
    {
     "name": "stdout",
     "output_type": "stream",
     "text": [
      "20/20 [==============================] - 1s 15ms/step\n",
      "7/7 [==============================] - 0s 18ms/step\n"
     ]
    }
   ],
   "source": [
    "train_predict=model.predict(X_train)\n",
    "test_predict=model.predict(X_test)"
   ]
  },
  {
   "cell_type": "code",
   "execution_count": 38,
   "id": "0e48148d",
   "metadata": {
    "execution": {
     "iopub.execute_input": "2023-08-09T14:22:12.316484Z",
     "iopub.status.busy": "2023-08-09T14:22:12.316102Z",
     "iopub.status.idle": "2023-08-09T14:22:12.322107Z",
     "shell.execute_reply": "2023-08-09T14:22:12.320862Z"
    },
    "papermill": {
     "duration": 0.216721,
     "end_time": "2023-08-09T14:22:12.324465",
     "exception": false,
     "start_time": "2023-08-09T14:22:12.107744",
     "status": "completed"
    },
    "tags": []
   },
   "outputs": [],
   "source": [
    "train_predict=scaler.inverse_transform(train_predict)\n",
    "test_predict=scaler.inverse_transform(test_predict)"
   ]
  },
  {
   "cell_type": "markdown",
   "id": "3f4bbf54",
   "metadata": {
    "papermill": {
     "duration": 0.204236,
     "end_time": "2023-08-09T14:22:12.734106",
     "exception": false,
     "start_time": "2023-08-09T14:22:12.529870",
     "status": "completed"
    },
    "tags": []
   },
   "source": [
    "**Evaluating Model**"
   ]
  },
  {
   "cell_type": "code",
   "execution_count": 39,
   "id": "70559411",
   "metadata": {
    "execution": {
     "iopub.execute_input": "2023-08-09T14:22:13.139903Z",
     "iopub.status.busy": "2023-08-09T14:22:13.139462Z",
     "iopub.status.idle": "2023-08-09T14:22:13.148176Z",
     "shell.execute_reply": "2023-08-09T14:22:13.146853Z"
    },
    "papermill": {
     "duration": 0.214515,
     "end_time": "2023-08-09T14:22:13.150556",
     "exception": false,
     "start_time": "2023-08-09T14:22:12.936041",
     "status": "completed"
    },
    "tags": []
   },
   "outputs": [
    {
     "data": {
      "text/plain": [
       "39.38204137883447"
      ]
     },
     "execution_count": 39,
     "metadata": {},
     "output_type": "execute_result"
    }
   ],
   "source": [
    "import math\n",
    "from sklearn.metrics import mean_squared_error\n",
    "math.sqrt(mean_squared_error(y_train,train_predict))"
   ]
  },
  {
   "cell_type": "code",
   "execution_count": 40,
   "id": "acdc5145",
   "metadata": {
    "execution": {
     "iopub.execute_input": "2023-08-09T14:22:13.556932Z",
     "iopub.status.busy": "2023-08-09T14:22:13.556480Z",
     "iopub.status.idle": "2023-08-09T14:22:13.564997Z",
     "shell.execute_reply": "2023-08-09T14:22:13.563722Z"
    },
    "papermill": {
     "duration": 0.214125,
     "end_time": "2023-08-09T14:22:13.567408",
     "exception": false,
     "start_time": "2023-08-09T14:22:13.353283",
     "status": "completed"
    },
    "tags": []
   },
   "outputs": [
    {
     "data": {
      "text/plain": [
       "39.778150367523466"
      ]
     },
     "execution_count": 40,
     "metadata": {},
     "output_type": "execute_result"
    }
   ],
   "source": [
    "math.sqrt(mean_squared_error(y_test,test_predict))"
   ]
  },
  {
   "cell_type": "code",
   "execution_count": 41,
   "id": "99fca99e",
   "metadata": {
    "execution": {
     "iopub.execute_input": "2023-08-09T14:22:13.973591Z",
     "iopub.status.busy": "2023-08-09T14:22:13.973215Z",
     "iopub.status.idle": "2023-08-09T14:22:14.342724Z",
     "shell.execute_reply": "2023-08-09T14:22:14.341534Z"
    },
    "papermill": {
     "duration": 0.576066,
     "end_time": "2023-08-09T14:22:14.345370",
     "exception": false,
     "start_time": "2023-08-09T14:22:13.769304",
     "status": "completed"
    },
    "tags": []
   },
   "outputs": [
    {
     "data": {
      "image/png": "[encoded data removed]",
      "text/plain": [
       "<Figure size 1000x600 with 1 Axes>"
      ]
     },
     "metadata": {},
     "output_type": "display_data"
    }
   ],
   "source": [
    "look_back=100\n",
    "trainPredictPlot = np.empty_like(df1)\n",
    "trainPredictPlot[:, :] = np.nan\n",
    "trainPredictPlot[look_back:len(train_predict)+look_back, :] = train_predict\n",
    "\n",
    "testPredictPlot = np.empty_like(df1)\n",
    "testPredictPlot[:, :] = np.nan\n",
    "testPredictPlot[len(train_predict)+(look_back*2)+1:len(df1)-1, :] = test_predict\n",
    "\n",
    "plt.style.use('dark_background')\n",
    "plt.figure(figsize=(10, 6))  # Adjust the figure size as needed\n",
    "plt.plot(scaler.inverse_transform(df1), color='red', label='Actual')\n",
    "plt.plot(trainPredictPlot, color='lime', label='Train Predictions')\n",
    "plt.plot(testPredictPlot, color='blue', label='Test Predictions')\n",
    "plt.xlabel('Time')\n",
    "plt.ylabel('Stock Price')\n",
    "plt.title('UBER Stock Market Prediction Using Simple RNN')\n",
    "plt.legend()\n",
    "plt.show()"
   ]
  }
 ],
 "metadata": {
  "kernelspec": {
   "display_name": "Python 3",
   "language": "python",
   "name": "python3"
  },
  "language_info": {
   "codemirror_mode": {
    "name": "ipython",
    "version": 3
   },
   "file_extension": ".py",
   "mimetype": "text/x-python",
   "name": "python",
   "nbconvert_exporter": "python",
   "pygments_lexer": "ipython3",
   "version": "3.10.12"
  },
  "papermill": {
   "default_parameters": {},
   "duration": 305.034978,
   "end_time": "2023-08-09T14:22:17.172446",
   "environment_variables": {},
   "exception": null,
   "input_path": "__notebook__.ipynb",
   "output_path": "__notebook__.ipynb",
   "parameters": {},
   "start_time": "2023-08-09T14:17:12.137468",
   "version": "2.4.0"
  }
 },
 "nbformat": 4,
 "nbformat_minor": 5
}
